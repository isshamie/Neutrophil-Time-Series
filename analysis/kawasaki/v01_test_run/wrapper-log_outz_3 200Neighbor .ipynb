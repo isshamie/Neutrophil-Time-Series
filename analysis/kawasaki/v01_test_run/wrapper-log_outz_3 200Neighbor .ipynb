{
 "cells": [
  {
   "cell_type": "code",
   "execution_count": 1,
   "metadata": {
    "ExecuteTime": {
     "end_time": "2020-08-05T22:04:13.210966Z",
     "start_time": "2020-08-05T22:04:13.192109Z"
    }
   },
   "outputs": [],
   "source": [
    "import yaml"
   ]
  },
  {
   "cell_type": "code",
   "execution_count": 2,
   "metadata": {
    "ExecuteTime": {
     "end_time": "2020-08-05T22:04:13.229834Z",
     "start_time": "2020-08-05T22:04:13.212620Z"
    }
   },
   "outputs": [
    {
     "name": "stdout",
     "output_type": "stream",
     "text": [
      "Project Directory: /data2/isshamie/time_neutrophils\n",
      "/data2/isshamie/time_neutrophils/data\n"
     ]
    }
   ],
   "source": [
    "from src.config import DATA_DIR, PARAMS_DIR, RESULTS, ROOT_DIR\n",
    "import os\n",
    "print(DATA_DIR)\n",
    "os.chdir(ROOT_DIR)"
   ]
  },
  {
   "cell_type": "code",
   "execution_count": 4,
   "metadata": {
    "ExecuteTime": {
     "end_time": "2020-08-05T22:04:34.119760Z",
     "start_time": "2020-08-05T22:04:34.108941Z"
    }
   },
   "outputs": [
    {
     "data": {
      "text/plain": [
       "'parameters/kawasaki/test_run/kawasaki_snakemake_all_nsample1000.yaml'"
      ]
     },
     "execution_count": 4,
     "metadata": {},
     "output_type": "execute_result"
    }
   ],
   "source": [
    "config"
   ]
  },
  {
   "cell_type": "code",
   "execution_count": 5,
   "metadata": {
    "ExecuteTime": {
     "end_time": "2020-08-05T22:04:37.271956Z",
     "start_time": "2020-08-05T22:04:37.133858Z"
    }
   },
   "outputs": [
    {
     "name": "stdout",
     "output_type": "stream",
     "text": [
      "\u001b[0m\u001b[01;34mkawasaki\u001b[0m/                       \u001b[01;32mparams_sample_4.yaml\u001b[0m*\r\n",
      "\u001b[01;32mparameters_snakemake_001.yaml\u001b[0m*  \u001b[01;32mparams_sample_5.yaml\u001b[0m*\r\n",
      "\u001b[01;32mparams_sample_10.yaml\u001b[0m*          \u001b[01;32mparams_sample_6.yaml\u001b[0m*\r\n",
      "\u001b[01;32mparams_sample_11.yaml\u001b[0m*          \u001b[01;32mparams_sample_7.yaml\u001b[0m*\r\n",
      "\u001b[01;32mparams_sample_1.yaml\u001b[0m*           \u001b[01;32mparams_sample_8.yaml\u001b[0m*\r\n",
      "\u001b[01;32mparams_sample_2.yaml\u001b[0m*           \u001b[01;32mparams_sample_9.yaml\u001b[0m*\r\n",
      "\u001b[01;32mparams_sample_3.yaml\u001b[0m*           \u001b[01;32mplot_cluster_params_sample_2.yaml\u001b[0m*\r\n"
     ]
    }
   ],
   "source": [
    "ls parameters/"
   ]
  },
  {
   "cell_type": "code",
   "execution_count": 7,
   "metadata": {
    "ExecuteTime": {
     "end_time": "2020-08-05T22:04:50.813226Z",
     "start_time": "2020-08-05T22:04:50.785947Z"
    }
   },
   "outputs": [
    {
     "name": "stdout",
     "output_type": "stream",
     "text": [
      "['Cell Tracker Intensity', 'PI Intensity', 'AnexinV Intensity', 'Cell Aspect Ratio', 'Cell Size', 'Cell Circularity']\n"
     ]
    }
   ],
   "source": [
    "import os\n",
    "import pandas as pd\n",
    "from snakemake.utils import validate\n",
    "import numpy as np\n",
    "from src import run_umap\n",
    "\n",
    "configfile = \"parameters/kawasaki/test_run/kawasaki_snakemake_all_nsample1000.yaml\"\n",
    "with open(configfile) as file:\n",
    "    config = yaml.full_load(file)\n",
    "#from src.utils import logs\n",
    "\n",
    "# samples = pd.read_table(config[\"samples\"], dtype=str).set_index([\"sample\"], drop=False)\n",
    "# RAW_SAMPLES = samples.apply(lambda x: os.path.join(x[\"raw\"], x[\"bam\"]), axis=1)\n",
    "#print('index',samples.index)\n",
    "\n",
    "\n",
    "normalizations = config[\"normalizations\"]\n",
    "reduct_technique = config[\"reduction\"]\n",
    "n_iters = np.arange(config[\"n_iters\"])\n",
    "n_subsample = config[\"n_subsample\"]\n",
    "min_neighbors= config[\"min_neighbors\"]\n",
    "min_neighbors = list(map(lambda x: int(x), min_neighbors))\n",
    "min_distances = config[\"min_distances\"]\n",
    "min_distances = list(map(lambda x: float(x), min_distances))\n",
    "\n",
    "features = config[\"features\"]\n",
    "print(features)\n",
    "cluster = config[\"cluster_technique\"]\n",
    "min_cluster_size = config[\"min_cluster_size\"]\n",
    "min_sample = config[\"min_sample\"]\n",
    "\n",
    "#report: \"report/workflow.rst\"\n",
    "\n",
    "prefix = [config[\"prefix\"]]\n",
    "\n"
   ]
  },
  {
   "cell_type": "code",
   "execution_count": 6,
   "metadata": {
    "ExecuteTime": {
     "end_time": "2020-08-05T22:04:42.341863Z",
     "start_time": "2020-08-05T22:04:42.310270Z"
    }
   },
   "outputs": [
    {
     "data": {
      "text/plain": [
       "{'raw_dir': 'raw/kawasaki/FCS Files/',\n",
       " 'prefix': 'kawasaki/test_run/all_nsample1000',\n",
       " 'tidy_name': 'tidy',\n",
       " 'is_kawa': True,\n",
       " 'wells': None,\n",
       " 'name': {'start': 'Test Run - ', 'end': '.csv'},\n",
       " 'features': ['Cell Tracker Intensity',\n",
       "  'PI Intensity',\n",
       "  'AnexinV Intensity',\n",
       "  'Cell Aspect Ratio',\n",
       "  'Cell Size',\n",
       "  'Cell Circularity'],\n",
       " 'normalizations': ['log10_z_out3'],\n",
       " 'reduction': 'umap',\n",
       " 'n_subsample': 0.25,\n",
       " 'n_iters': 3,\n",
       " 'min_neighbors': [15, 200, 100],\n",
       " 'min_distances': [0],\n",
       " 'cluster_technique': ['hdb'],\n",
       " 'min_cluster_size': [30, 60],\n",
       " 'min_sample': [100]}"
      ]
     },
     "execution_count": 6,
     "metadata": {},
     "output_type": "execute_result"
    }
   ],
   "source": [
    "config"
   ]
  },
  {
   "cell_type": "code",
   "execution_count": null,
   "metadata": {
    "ExecuteTime": {
     "end_time": "2020-08-05T22:04:15.681930Z",
     "start_time": "2020-08-05T22:04:13.184Z"
    }
   },
   "outputs": [],
   "source": [
    "config"
   ]
  },
  {
   "cell_type": "code",
   "execution_count": null,
   "metadata": {},
   "outputs": [],
   "source": [
    "    input:\n",
    "        data_f = \"data/processed/{prefix}/tidy/fc.tsv\",\n",
    "        meta_f = \"data/processed/{prefix}/tidy/meta.tsv\"\n",
    "    output: \"data/processed/{prefix}/transform/data_df_{norm}.p\"\n",
    "    params:\n",
    "        outdir = lambda wildcards, output: os.path.dirname(str(output)),\n",
    "    shell: \"python src/preprocess.py {input.data_f} {params.outdir} {wildcards.norm}\"\n"
   ]
  },
  {
   "cell_type": "code",
   "execution_count": null,
   "metadata": {},
   "outputs": [],
   "source": [
    "    input:\n",
    "         data_f = \"data/processed/{prefix}/transform/data_df_{norm}.p\",\n",
    "         meta_f = \"data/processed/{prefix}/tidy/meta.tsv\"\n",
    "    output:\n",
    "        \"results/{prefix}/{norm}/{dim}_out/{min_neighbor}_{min_distance}/embedding_{sim}.p\"\n",
    "    params:\n",
    "        outdir = lambda wildcards:  f\"results/{wildcards.prefix}/{wildcards.norm}/{wildcards.dim}_out\", # output: os.path.dirname(str(output)),\n",
    "        n_iter = config[\"n_iters\"],\n",
    "        n_subsample = n_subsample,\n",
    "        #features = \"intensity\"\n",
    "    resources:\n",
    "        mem_mb=50000\n",
    "    shell: \"python src/run_umap.py {input.data_f} {input.meta_f} {params.outdir} {wildcards.min_neighbor} {wildcards.min_distance} {params.n_subsample} --n_iter {params.n_iter} --embed {wildcards.dim}\"\n",
    "\n"
   ]
  },
  {
   "cell_type": "code",
   "execution_count": null,
   "metadata": {},
   "outputs": [],
   "source": [
    "    input:\n",
    "        data_f = \"data/processed/{prefix}/transform/data_df_{norm}.p\",\n",
    "        meta_f = \"data/processed/{prefix}/tidy/meta.tsv\",\n",
    "        umap_f = \"results/{prefix}/{norm}/{dim}_out/{min_neighbor}_{min_distance}/embedding_{sim}.p\"\n",
    "    output:\n",
    "        stim_fig = \"figures/{prefix}/{norm}/{dim}_out/{min_neighbor}_{min_distance}/sim{sim}/umap_stimuli.png\",\n",
    "    params:\n",
    "        fig_dir = \"figures/{prefix}/{norm}/{dim}_out/{min_neighbor}_{min_distance}/sim{sim}\"\n",
    "    shell: \"python src/plot_umap_embeddings.py {input.data_f} {input.meta_f} {input.umap_f} {params.fig_dir} {wildcards.min_neighbor} {wildcards.min_distance}\"\n"
   ]
  },
  {
   "cell_type": "code",
   "execution_count": null,
   "metadata": {},
   "outputs": [],
   "source": [
    "    input:\n",
    "        umap_f = \"results/{prefix}/{norm}/{dim}_out/{min_neighbor}_{min_distance}/embedding_0.p\"\n",
    "    output:\n",
    "        cluster_f = \"results/{prefix}/{norm}/{dim}_out/{min_neighbor}_{min_distance}/{cluster}_out/{min_sample}_{min_cluster_size}.p\",\n",
    "        f_save_fig = \"figures/{prefix}/{norm,^[^/]+$}/{dim}_out/{min_neighbor}_{min_distance}/{cluster}_out/{min_sample}_{min_cluster_size}.png\"\n",
    "    resources:\n",
    "        mem_mb=200000\n",
    "    shell: \"python src/clustering.py {input.umap_f} {output.cluster_f} {output.f_save_fig} {wildcards.cluster} {wildcards.min_sample} {wildcards.min_cluster_size}\"\n"
   ]
  }
 ],
 "metadata": {
  "kernelspec": {
   "display_name": "Python 3",
   "language": "python",
   "name": "python3"
  },
  "language_info": {
   "codemirror_mode": {
    "name": "ipython",
    "version": 3
   },
   "file_extension": ".py",
   "mimetype": "text/x-python",
   "name": "python",
   "nbconvert_exporter": "python",
   "pygments_lexer": "ipython3",
   "version": "3.7.3"
  }
 },
 "nbformat": 4,
 "nbformat_minor": 2
}
