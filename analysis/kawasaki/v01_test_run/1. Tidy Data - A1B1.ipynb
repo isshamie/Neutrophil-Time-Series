{
 "cells": [
  {
   "cell_type": "markdown",
   "metadata": {},
   "source": [
    "## Use the same blocks for the kawasaki test run analysis\n",
    "---\n",
    "### Starting here:"
   ]
  },
  {
   "cell_type": "code",
   "execution_count": 1,
   "metadata": {
    "ExecuteTime": {
     "end_time": "2020-07-26T01:03:19.700020Z",
     "start_time": "2020-07-26T01:03:19.241280Z"
    }
   },
   "outputs": [],
   "source": [
    "from os.path import join, basename, exists\n",
    "import os\n",
    "import yaml\n",
    "import pandas as pd \n",
    "import numpy as np\n",
    "from glob import glob\n",
    "%load_ext autoreload\n",
    "%autoreload 2"
   ]
  },
  {
   "cell_type": "code",
   "execution_count": 2,
   "metadata": {
    "ExecuteTime": {
     "end_time": "2020-07-26T01:03:19.724247Z",
     "start_time": "2020-07-26T01:03:19.701803Z"
    },
    "scrolled": true
   },
   "outputs": [
    {
     "name": "stdout",
     "output_type": "stream",
     "text": [
      "Project Directory: /data2/isshamie/time_neutrophils\n",
      "/data2/isshamie/time_neutrophils/data\n"
     ]
    }
   ],
   "source": [
    "from src.config import DATA_DIR, PARAMS_DIR, RESULTS\n",
    "print(DATA_DIR)\n"
   ]
  },
  {
   "cell_type": "code",
   "execution_count": 3,
   "metadata": {
    "ExecuteTime": {
     "end_time": "2020-07-26T01:03:19.749618Z",
     "start_time": "2020-07-26T01:03:19.726604Z"
    }
   },
   "outputs": [
    {
     "name": "stdout",
     "output_type": "stream",
     "text": [
      "/data2/isshamie/time_neutrophils/parameters/kawasaki/test_run/kawasaki_snakemake_A1B1.yaml\n",
      "{'raw_dir': 'raw/kawasaki/FCS Files/', 'prefix': 'kawasaki/test_run/A1B1', 'tidy_name': 'tidy', 'wells': ['A01', 'B01'], 'name': {'start': 'Test Run - ', 'end': '.csv'}, 'features': ['Cell Tracker Intensity', 'PI Intensity', 'AnexinV Intensity', 'Cell Aspect Ratio', 'Cell Size', 'Cell Circularity'], 'normalizations': ['log10_z'], 'reduction': 'umap', 'n_subsample': 0, 'n_iters': 3, 'min_neighbors': [15, 200, 100], 'min_distances': [0], 'cluster_technique': 'hdb', 'min_cluster_size': [30, 60], 'min_sample': [100]}\n"
     ]
    }
   ],
   "source": [
    "#The parameter file depending on the analysis\n",
    "parameter_f = join(PARAMS_DIR, \"kawasaki\", \"test_run\", \"kawasaki_snakemake_A1B1.yaml\")\n",
    "# with open(parameter_f,'r') as f:\n",
    "#     params = yaml.load(f, Loader=yaml.Loader)\n",
    "with open(parameter_f, 'r') as f:\n",
    "    params = yaml.safe_load(f)\n",
    "\n",
    "print(parameter_f)\n",
    "print(params)"
   ]
  },
  {
   "cell_type": "markdown",
   "metadata": {},
   "source": [
    "### Make results directory "
   ]
  },
  {
   "cell_type": "code",
   "execution_count": 4,
   "metadata": {
    "ExecuteTime": {
     "end_time": "2020-07-26T01:03:19.767464Z",
     "start_time": "2020-07-26T01:03:19.751418Z"
    }
   },
   "outputs": [
    {
     "name": "stdout",
     "output_type": "stream",
     "text": [
      "/data2/isshamie/time_neutrophils/data/processed/kawasaki/test_run/A1B1\n"
     ]
    }
   ],
   "source": [
    "results_dir =  join(RESULTS, params[\"prefix\"])\n",
    "print(results_dir)\n",
    "if not exists(RESULTS):\n",
    "    print(f\"{RESULTS} is not made yet! Make that first\")\n",
    "\n",
    "else:\n",
    "    if not exists(results_dir):\n",
    "        os.makedirs(results_dir)"
   ]
  },
  {
   "cell_type": "markdown",
   "metadata": {},
   "source": [
    "### Until Here\n",
    "---\n",
    "---"
   ]
  },
  {
   "cell_type": "markdown",
   "metadata": {},
   "source": [
    "### Raw directory files and create tidy directory"
   ]
  },
  {
   "cell_type": "code",
   "execution_count": 5,
   "metadata": {
    "ExecuteTime": {
     "end_time": "2020-07-26T01:03:19.819108Z",
     "start_time": "2020-07-26T01:03:19.768998Z"
    },
    "scrolled": true
   },
   "outputs": [
    {
     "name": "stdout",
     "output_type": "stream",
     "text": [
      "Project Directory: /data2/isshamie/time_neutrophils\n",
      "\n",
      "Config paths:\n",
      "__name__ src.params\n",
      "__package__ src\n",
      "__file__ /data2/isshamie/time_neutrophils/src/params.py\n",
      "__cached__ /data2/isshamie/time_neutrophils/src/__pycache__/params.cpython-37.pyc\n",
      "path /data2/isshamie/time_neutrophils/src/params.py\n",
      "DATA_DIR /data2/isshamie/time_neutrophils/data\n",
      "RAW_DIR /data2/isshamie/time_neutrophils/data/raw\n",
      "PROCESSED /data2/isshamie/time_neutrophils/data/processed\n",
      "PARAM_DIR /data2/isshamie/time_neutrophils/parameters\n",
      "RESULTS /data2/isshamie/time_neutrophils/results\n",
      "FIGURES_DIR /data2/isshamie/time_neutrophils/figures\n"
     ]
    },
    {
     "data": {
      "text/plain": [
       "['/data2/isshamie/time_neutrophils/data/raw/kawasaki/FCS Files/Test Run - H03.csv',\n",
       " '/data2/isshamie/time_neutrophils/data/raw/kawasaki/FCS Files/Test Run - E01.csv',\n",
       " '/data2/isshamie/time_neutrophils/data/raw/kawasaki/FCS Files/Test Run - G07.csv',\n",
       " '/data2/isshamie/time_neutrophils/data/raw/kawasaki/FCS Files/Test Run - H08.csv',\n",
       " '/data2/isshamie/time_neutrophils/data/raw/kawasaki/FCS Files/Test Run - G09.csv',\n",
       " '/data2/isshamie/time_neutrophils/data/raw/kawasaki/FCS Files/Test Run - C10.csv',\n",
       " '/data2/isshamie/time_neutrophils/data/raw/kawasaki/FCS Files/Test Run - D01.csv',\n",
       " '/data2/isshamie/time_neutrophils/data/raw/kawasaki/FCS Files/Test Run - D12.csv',\n",
       " '/data2/isshamie/time_neutrophils/data/raw/kawasaki/FCS Files/Test Run - B07.csv',\n",
       " '/data2/isshamie/time_neutrophils/data/raw/kawasaki/FCS Files/Test Run - E08.csv',\n",
       " '/data2/isshamie/time_neutrophils/data/raw/kawasaki/FCS Files/Test Run - D05.csv',\n",
       " '/data2/isshamie/time_neutrophils/data/raw/kawasaki/FCS Files/Test Run - D09.csv',\n",
       " '/data2/isshamie/time_neutrophils/data/raw/kawasaki/FCS Files/Test Run - C09.csv',\n",
       " '/data2/isshamie/time_neutrophils/data/raw/kawasaki/FCS Files/Test Run - D10.csv',\n",
       " '/data2/isshamie/time_neutrophils/data/raw/kawasaki/FCS Files/Test Run - G08.csv',\n",
       " '/data2/isshamie/time_neutrophils/data/raw/kawasaki/FCS Files/Test Run - D07.csv',\n",
       " '/data2/isshamie/time_neutrophils/data/raw/kawasaki/FCS Files/Test Run - A08.csv',\n",
       " '/data2/isshamie/time_neutrophils/data/raw/kawasaki/FCS Files/Test Run - G04.csv',\n",
       " '/data2/isshamie/time_neutrophils/data/raw/kawasaki/FCS Files/Test Run - G12.csv',\n",
       " '/data2/isshamie/time_neutrophils/data/raw/kawasaki/FCS Files/Test Run - G02.csv',\n",
       " '/data2/isshamie/time_neutrophils/data/raw/kawasaki/FCS Files/Test Run - B11.csv',\n",
       " '/data2/isshamie/time_neutrophils/data/raw/kawasaki/FCS Files/Test Run - B09.csv',\n",
       " '/data2/isshamie/time_neutrophils/data/raw/kawasaki/FCS Files/Test Run - B02.csv',\n",
       " '/data2/isshamie/time_neutrophils/data/raw/kawasaki/FCS Files/Test Run - C02.csv',\n",
       " '/data2/isshamie/time_neutrophils/data/raw/kawasaki/FCS Files/Test Run - H04.csv',\n",
       " '/data2/isshamie/time_neutrophils/data/raw/kawasaki/FCS Files/Test Run - E11.csv',\n",
       " '/data2/isshamie/time_neutrophils/data/raw/kawasaki/FCS Files/Test Run - B08.csv',\n",
       " '/data2/isshamie/time_neutrophils/data/raw/kawasaki/FCS Files/Test Run - C05.csv',\n",
       " '/data2/isshamie/time_neutrophils/data/raw/kawasaki/FCS Files/Test Run - C04.csv',\n",
       " '/data2/isshamie/time_neutrophils/data/raw/kawasaki/FCS Files/Test Run - G03.csv',\n",
       " '/data2/isshamie/time_neutrophils/data/raw/kawasaki/FCS Files/Test Run - H12.csv',\n",
       " '/data2/isshamie/time_neutrophils/data/raw/kawasaki/FCS Files/Test Run - E07.csv',\n",
       " '/data2/isshamie/time_neutrophils/data/raw/kawasaki/FCS Files/Test Run - A02.csv',\n",
       " '/data2/isshamie/time_neutrophils/data/raw/kawasaki/FCS Files/Test Run - F01.csv',\n",
       " '/data2/isshamie/time_neutrophils/data/raw/kawasaki/FCS Files/Test Run - C12.csv',\n",
       " '/data2/isshamie/time_neutrophils/data/raw/kawasaki/FCS Files/Test Run - E06.csv',\n",
       " '/data2/isshamie/time_neutrophils/data/raw/kawasaki/FCS Files/Test Run - G06.csv',\n",
       " '/data2/isshamie/time_neutrophils/data/raw/kawasaki/FCS Files/Test Run - F10.csv',\n",
       " '/data2/isshamie/time_neutrophils/data/raw/kawasaki/FCS Files/Test Run - F04.csv',\n",
       " '/data2/isshamie/time_neutrophils/data/raw/kawasaki/FCS Files/Test Run - G11.csv',\n",
       " '/data2/isshamie/time_neutrophils/data/raw/kawasaki/FCS Files/Test Run - A09.csv',\n",
       " '/data2/isshamie/time_neutrophils/data/raw/kawasaki/FCS Files/Test Run - C03.csv',\n",
       " '/data2/isshamie/time_neutrophils/data/raw/kawasaki/FCS Files/Test Run - H01.csv',\n",
       " '/data2/isshamie/time_neutrophils/data/raw/kawasaki/FCS Files/Test Run - F02.csv',\n",
       " '/data2/isshamie/time_neutrophils/data/raw/kawasaki/FCS Files/Test Run - A03.csv',\n",
       " '/data2/isshamie/time_neutrophils/data/raw/kawasaki/FCS Files/Test Run - F06.csv',\n",
       " '/data2/isshamie/time_neutrophils/data/raw/kawasaki/FCS Files/Test Run - C06.csv',\n",
       " '/data2/isshamie/time_neutrophils/data/raw/kawasaki/FCS Files/Test Run - E04.csv',\n",
       " '/data2/isshamie/time_neutrophils/data/raw/kawasaki/FCS Files/Test Run - F11.csv',\n",
       " '/data2/isshamie/time_neutrophils/data/raw/kawasaki/FCS Files/Test Run - C01.csv',\n",
       " '/data2/isshamie/time_neutrophils/data/raw/kawasaki/FCS Files/Test Run - E12.csv',\n",
       " '/data2/isshamie/time_neutrophils/data/raw/kawasaki/FCS Files/Test Run - A12.csv',\n",
       " '/data2/isshamie/time_neutrophils/data/raw/kawasaki/FCS Files/Test Run - F03.csv',\n",
       " '/data2/isshamie/time_neutrophils/data/raw/kawasaki/FCS Files/Test Run - E02.csv',\n",
       " '/data2/isshamie/time_neutrophils/data/raw/kawasaki/FCS Files/Test Run - A07.csv',\n",
       " '/data2/isshamie/time_neutrophils/data/raw/kawasaki/FCS Files/Test Run - H10.csv',\n",
       " '/data2/isshamie/time_neutrophils/data/raw/kawasaki/FCS Files/Test Run - F07.csv',\n",
       " '/data2/isshamie/time_neutrophils/data/raw/kawasaki/FCS Files/Test Run - B12.csv',\n",
       " '/data2/isshamie/time_neutrophils/data/raw/kawasaki/FCS Files/Test Run - G05.csv',\n",
       " '/data2/isshamie/time_neutrophils/data/raw/kawasaki/FCS Files/Test Run - H09.csv',\n",
       " '/data2/isshamie/time_neutrophils/data/raw/kawasaki/FCS Files/Test Run - H06.csv',\n",
       " '/data2/isshamie/time_neutrophils/data/raw/kawasaki/FCS Files/Test Run - D11.csv',\n",
       " '/data2/isshamie/time_neutrophils/data/raw/kawasaki/FCS Files/Test Run - C08.csv',\n",
       " '/data2/isshamie/time_neutrophils/data/raw/kawasaki/FCS Files/Test Run - B01.csv',\n",
       " '/data2/isshamie/time_neutrophils/data/raw/kawasaki/FCS Files/Test Run - E05.csv',\n",
       " '/data2/isshamie/time_neutrophils/data/raw/kawasaki/FCS Files/Test Run - B10.csv',\n",
       " '/data2/isshamie/time_neutrophils/data/raw/kawasaki/FCS Files/Test Run - A01.csv',\n",
       " '/data2/isshamie/time_neutrophils/data/raw/kawasaki/FCS Files/Test Run - H07.csv',\n",
       " '/data2/isshamie/time_neutrophils/data/raw/kawasaki/FCS Files/Test Run - G01.csv',\n",
       " '/data2/isshamie/time_neutrophils/data/raw/kawasaki/FCS Files/Test Run - E10.csv',\n",
       " '/data2/isshamie/time_neutrophils/data/raw/kawasaki/FCS Files/Test Run - H05.csv',\n",
       " '/data2/isshamie/time_neutrophils/data/raw/kawasaki/FCS Files/Test Run - H02.csv',\n",
       " '/data2/isshamie/time_neutrophils/data/raw/kawasaki/FCS Files/Test Run - D04.csv',\n",
       " '/data2/isshamie/time_neutrophils/data/raw/kawasaki/FCS Files/Test Run - A06.csv',\n",
       " '/data2/isshamie/time_neutrophils/data/raw/kawasaki/FCS Files/Test Run - A04.csv',\n",
       " '/data2/isshamie/time_neutrophils/data/raw/kawasaki/FCS Files/Test Run - A11.csv',\n",
       " '/data2/isshamie/time_neutrophils/data/raw/kawasaki/FCS Files/Test Run - F12.csv',\n",
       " '/data2/isshamie/time_neutrophils/data/raw/kawasaki/FCS Files/Test Run - C07.csv',\n",
       " '/data2/isshamie/time_neutrophils/data/raw/kawasaki/FCS Files/Test Run - D03.csv',\n",
       " '/data2/isshamie/time_neutrophils/data/raw/kawasaki/FCS Files/Test Run - B05.csv',\n",
       " '/data2/isshamie/time_neutrophils/data/raw/kawasaki/FCS Files/Test Run - F08.csv',\n",
       " '/data2/isshamie/time_neutrophils/data/raw/kawasaki/FCS Files/Test Run - F09.csv',\n",
       " '/data2/isshamie/time_neutrophils/data/raw/kawasaki/FCS Files/Test Run - F05.csv',\n",
       " '/data2/isshamie/time_neutrophils/data/raw/kawasaki/FCS Files/Test Run - H11.csv',\n",
       " '/data2/isshamie/time_neutrophils/data/raw/kawasaki/FCS Files/Test Run - A10.csv',\n",
       " '/data2/isshamie/time_neutrophils/data/raw/kawasaki/FCS Files/Test Run - D08.csv',\n",
       " '/data2/isshamie/time_neutrophils/data/raw/kawasaki/FCS Files/Test Run - B04.csv',\n",
       " '/data2/isshamie/time_neutrophils/data/raw/kawasaki/FCS Files/Test Run - B03.csv',\n",
       " '/data2/isshamie/time_neutrophils/data/raw/kawasaki/FCS Files/Test Run - B06.csv',\n",
       " '/data2/isshamie/time_neutrophils/data/raw/kawasaki/FCS Files/Test Run - D06.csv',\n",
       " '/data2/isshamie/time_neutrophils/data/raw/kawasaki/FCS Files/Test Run - E09.csv',\n",
       " '/data2/isshamie/time_neutrophils/data/raw/kawasaki/FCS Files/Test Run - A05.csv',\n",
       " '/data2/isshamie/time_neutrophils/data/raw/kawasaki/FCS Files/Test Run - C11.csv',\n",
       " '/data2/isshamie/time_neutrophils/data/raw/kawasaki/FCS Files/Test Run - E03.csv',\n",
       " '/data2/isshamie/time_neutrophils/data/raw/kawasaki/FCS Files/Test Run - D02.csv',\n",
       " '/data2/isshamie/time_neutrophils/data/raw/kawasaki/FCS Files/Test Run - G10.csv']"
      ]
     },
     "execution_count": 5,
     "metadata": {},
     "output_type": "execute_result"
    }
   ],
   "source": [
    "from src.make_data import *\n",
    "\n",
    "raw_dir = join(DATA_DIR, params[\"raw_dir\"] )\n",
    "tidy_dir = join(results_dir,\"tidy\")\n",
    "glob(raw_dir+\"/*\")\n"
   ]
  },
  {
   "cell_type": "code",
   "execution_count": 6,
   "metadata": {
    "ExecuteTime": {
     "end_time": "2020-07-26T01:03:19.892974Z",
     "start_time": "2020-07-26T01:03:19.821066Z"
    },
    "scrolled": false
   },
   "outputs": [
    {
     "name": "stdout",
     "output_type": "stream",
     "text": [
      "{'Stimuli': 'A', 'Sample': 1}\n",
      "{'Stimuli': 'B', 'Sample': 1}\n"
     ]
    }
   ],
   "source": [
    "data_fs = dict()\n",
    "if \"wells\" in params:\n",
    "    for i in params[\"wells\"]:\n",
    "        data_fs[i] = pd.read_csv(join(raw_dir, params[\"name\"][\"start\"] + i + params[\"name\"][\"end\"]))\n",
    "        print(parse_file_kawasaki(i, params[\"name\"]))"
   ]
  },
  {
   "cell_type": "code",
   "execution_count": 7,
   "metadata": {
    "ExecuteTime": {
     "end_time": "2020-07-26T01:03:23.936806Z",
     "start_time": "2020-07-26T01:03:19.894649Z"
    },
    "scrolled": true
   },
   "outputs": [
    {
     "name": "stdout",
     "output_type": "stream",
     "text": [
      "/data2/isshamie/time_neutrophils/data/raw/kawasaki/FCS Files/Test Run - A01.csv\n",
      "/data2/isshamie/time_neutrophils/data/raw/kawasaki/FCS Files/Test Run - B01.csv\n"
     ]
    }
   ],
   "source": [
    "create_dataframe_kawaski(raw_dir, tidy_dir, params[\"name\"], wells=params[\"wells\"], overwrite=True)"
   ]
  },
  {
   "cell_type": "markdown",
   "metadata": {},
   "source": [
    "## Convert to ID as before"
   ]
  },
  {
   "cell_type": "code",
   "execution_count": null,
   "metadata": {},
   "outputs": [],
   "source": []
  },
  {
   "cell_type": "code",
   "execution_count": null,
   "metadata": {
    "ExecuteTime": {
     "end_time": "2020-07-18T19:24:23.042317Z",
     "start_time": "2020-07-18T19:24:23.036635Z"
    }
   },
   "outputs": [],
   "source": []
  },
  {
   "cell_type": "code",
   "execution_count": null,
   "metadata": {},
   "outputs": [],
   "source": []
  }
 ],
 "metadata": {
  "kernelspec": {
   "display_name": "Python 3",
   "language": "python",
   "name": "python3"
  },
  "language_info": {
   "codemirror_mode": {
    "name": "ipython",
    "version": 3
   },
   "file_extension": ".py",
   "mimetype": "text/x-python",
   "name": "python",
   "nbconvert_exporter": "python",
   "pygments_lexer": "ipython3",
   "version": "3.7.3"
  }
 },
 "nbformat": 4,
 "nbformat_minor": 2
}
