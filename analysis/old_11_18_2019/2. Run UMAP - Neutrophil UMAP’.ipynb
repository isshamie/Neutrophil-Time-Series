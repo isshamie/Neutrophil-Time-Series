{
 "cells": [
  {
   "cell_type": "code",
   "execution_count": 1,
   "metadata": {
    "ExecuteTime": {
     "end_time": "2019-10-20T18:58:40.022721Z",
     "start_time": "2019-10-20T18:58:37.183957Z"
    }
   },
   "outputs": [],
   "source": [
    "import pymc3\n",
    "import umap\n",
    "import numpy as np\n",
    "import pandas as pd\n",
    "import matplotlib.pyplot as plt\n",
    "import seaborn as sns\n",
    "import glob\n",
    "import time\n",
    "import os\n",
    "from scipy.stats import zscore\n",
    "import threading\n",
    "import pickle\n",
    "%matplotlib inline"
   ]
  },
  {
   "cell_type": "markdown",
   "metadata": {},
   "source": [
    "## Load in z-scored data"
   ]
  },
  {
   "cell_type": "code",
   "execution_count": 2,
   "metadata": {
    "ExecuteTime": {
     "end_time": "2019-10-20T18:58:47.157360Z",
     "start_time": "2019-10-20T18:58:40.024658Z"
    }
   },
   "outputs": [
    {
     "data": {
      "text/html": [
       "<div>\n",
       "<style scoped>\n",
       "    .dataframe tbody tr th:only-of-type {\n",
       "        vertical-align: middle;\n",
       "    }\n",
       "\n",
       "    .dataframe tbody tr th {\n",
       "        vertical-align: top;\n",
       "    }\n",
       "\n",
       "    .dataframe thead th {\n",
       "        text-align: right;\n",
       "    }\n",
       "</style>\n",
       "<table border=\"1\" class=\"dataframe\">\n",
       "  <thead>\n",
       "    <tr style=\"text-align: right;\">\n",
       "      <th></th>\n",
       "      <th>Cell Size</th>\n",
       "      <th>Cell Circularity</th>\n",
       "      <th>Cell Aspect Ratio</th>\n",
       "      <th>Cell Tracker Intensity</th>\n",
       "      <th>PI Intensity</th>\n",
       "      <th>AnexinV Intensity</th>\n",
       "    </tr>\n",
       "  </thead>\n",
       "  <tbody>\n",
       "    <tr>\n",
       "      <td>0_2G3</td>\n",
       "      <td>62.4662</td>\n",
       "      <td>-9.764209</td>\n",
       "      <td>2.257279</td>\n",
       "      <td>-0.613713</td>\n",
       "      <td>-0.912228</td>\n",
       "      <td>-1.053166</td>\n",
       "    </tr>\n",
       "    <tr>\n",
       "      <td>1_2G3</td>\n",
       "      <td>-0.327282</td>\n",
       "      <td>-9.343066</td>\n",
       "      <td>84.071640</td>\n",
       "      <td>-0.941838</td>\n",
       "      <td>-0.915353</td>\n",
       "      <td>-1.213429</td>\n",
       "    </tr>\n",
       "    <tr>\n",
       "      <td>2_2G3</td>\n",
       "      <td>-0.590511</td>\n",
       "      <td>-7.180160</td>\n",
       "      <td>15.145722</td>\n",
       "      <td>-0.891318</td>\n",
       "      <td>-0.914065</td>\n",
       "      <td>-1.198231</td>\n",
       "    </tr>\n",
       "    <tr>\n",
       "      <td>3_2G3</td>\n",
       "      <td>-0.531419</td>\n",
       "      <td>-8.459477</td>\n",
       "      <td>30.618888</td>\n",
       "      <td>-0.818131</td>\n",
       "      <td>-0.911537</td>\n",
       "      <td>-1.199510</td>\n",
       "    </tr>\n",
       "    <tr>\n",
       "      <td>4_2G3</td>\n",
       "      <td>-0.644231</td>\n",
       "      <td>0.652443</td>\n",
       "      <td>1.079209</td>\n",
       "      <td>-0.827969</td>\n",
       "      <td>-0.913367</td>\n",
       "      <td>-1.194802</td>\n",
       "    </tr>\n",
       "  </tbody>\n",
       "</table>\n",
       "</div>"
      ],
      "text/plain": [
       "      Cell Size  Cell Circularity  Cell Aspect Ratio  Cell Tracker Intensity  \\\n",
       "0_2G3   62.4662         -9.764209           2.257279               -0.613713   \n",
       "1_2G3 -0.327282         -9.343066          84.071640               -0.941838   \n",
       "2_2G3 -0.590511         -7.180160          15.145722               -0.891318   \n",
       "3_2G3 -0.531419         -8.459477          30.618888               -0.818131   \n",
       "4_2G3 -0.644231          0.652443           1.079209               -0.827969   \n",
       "\n",
       "       PI Intensity  AnexinV Intensity  \n",
       "0_2G3     -0.912228          -1.053166  \n",
       "1_2G3     -0.915353          -1.213429  \n",
       "2_2G3     -0.914065          -1.198231  \n",
       "3_2G3     -0.911537          -1.199510  \n",
       "4_2G3     -0.913367          -1.194802  "
      ]
     },
     "execution_count": 2,
     "metadata": {},
     "output_type": "execute_result"
    }
   ],
   "source": [
    "df = pickle.load(open(\"fc_z.p\",\"rb\"))\n",
    "df.head()"
   ]
  },
  {
   "cell_type": "markdown",
   "metadata": {},
   "source": [
    "## Run umap"
   ]
  },
  {
   "cell_type": "code",
   "execution_count": 3,
   "metadata": {
    "ExecuteTime": {
     "end_time": "2019-10-20T18:58:47.162235Z",
     "start_time": "2019-10-20T18:58:47.159946Z"
    },
    "scrolled": true
   },
   "outputs": [],
   "source": [
    "# df_short = df.iloc[:100000,]\n",
    "# df_short"
   ]
  },
  {
   "cell_type": "code",
   "execution_count": 4,
   "metadata": {
    "ExecuteTime": {
     "end_time": "2019-10-20T18:58:47.172019Z",
     "start_time": "2019-10-20T18:58:47.164401Z"
    }
   },
   "outputs": [],
   "source": [
    "# t1 = time.time()\n",
    "# reducer = umap.UMAP()\n",
    "# embedding = reducer.fit_transform(df_short)\n",
    "# embedding.shape\n",
    "# t2 = time.time()\n",
    "# print(f\"Time in seconds:{(t2-t1)/60}\")\n",
    "# with open(\"time_took.txt\",\"w\") as f:\n",
    "#     f.write(str(t2-t1))"
   ]
  },
  {
   "cell_type": "code",
   "execution_count": 5,
   "metadata": {
    "ExecuteTime": {
     "end_time": "2019-10-20T18:58:47.182730Z",
     "start_time": "2019-10-20T18:58:47.174094Z"
    }
   },
   "outputs": [],
   "source": [
    "def run_umap(df,f_save):\n",
    "    #df = pickle.load(open(in_f,\"rb\"))\n",
    "    t1 = time.time()\n",
    "    reducer = umap.UMAP()\n",
    "    embedding = reducer.fit_transform(df.iloc[:,:-1])\n",
    "    embedding.shape\n",
    "    t2 = time.time()\n",
    "    print(f\"Time in minutes:{(t2-t1)/60}\")\n",
    "\n",
    "    pickle.dump(embedding,open(f_save,'wb'))\n",
    "    with open(f_save + \"_time_minutes.txt\",\"w\") as f:\n",
    "        f.write(str((t2-t1)/60))\n",
    "    return"
   ]
  },
  {
   "cell_type": "code",
   "execution_count": 6,
   "metadata": {
    "ExecuteTime": {
     "end_time": "2019-10-20T18:58:47.199377Z",
     "start_time": "2019-10-20T18:58:47.184318Z"
    }
   },
   "outputs": [],
   "source": [
    "maximumNumberOfThreads = 32\n",
    "threadLimiter = threading.BoundedSemaphore(maximumNumberOfThreads)\n",
    "\n",
    "class EncodeThread(threading.Thread):\n",
    "    def run(self):\n",
    "        threadLimiter.acquire()\n",
    "        try:\n",
    "            run_umap(df=df,f_save=\"umap_results.p\")\n",
    "        finally:\n",
    "            threadLimiter.release()"
   ]
  },
  {
   "cell_type": "code",
   "execution_count": 7,
   "metadata": {
    "ExecuteTime": {
     "end_time": "2019-10-21T15:37:59.172273Z",
     "start_time": "2019-10-20T18:58:52.084007Z"
    },
    "scrolled": true
   },
   "outputs": [
    {
     "name": "stderr",
     "output_type": "stream",
     "text": [
      "/home/isshamie/software/anaconda2/envs/umap/lib/python3.7/site-packages/numba/compiler.py:602: NumbaPerformanceWarning: \n",
      "The keyword argument 'parallel=True' was specified but no transformation for parallel execution was possible.\n",
      "\n",
      "To find out why, try turning on parallel diagnostics, see http://numba.pydata.org/numba-doc/latest/user/parallel.html#diagnostics for help.\n",
      "\n",
      "File \"../../../home/isshamie/software/anaconda2/envs/umap/lib/python3.7/site-packages/umap/rp_tree.py\", line 135:\n",
      "@numba.njit(fastmath=True, nogil=True, parallel=True)\n",
      "def euclidean_random_projection_split(data, indices, rng_state):\n",
      "^\n",
      "\n",
      "  self.func_ir.loc))\n",
      "/home/isshamie/software/anaconda2/envs/umap/lib/python3.7/site-packages/umap/nndescent.py:92: NumbaPerformanceWarning: \n",
      "The keyword argument 'parallel=True' was specified but no transformation for parallel execution was possible.\n",
      "\n",
      "To find out why, try turning on parallel diagnostics, see http://numba.pydata.org/numba-doc/latest/user/parallel.html#diagnostics for help.\n",
      "\n",
      "File \"../../../home/isshamie/software/anaconda2/envs/umap/lib/python3.7/site-packages/umap/utils.py\", line 409:\n",
      "@numba.njit(parallel=True)\n",
      "def build_candidates(current_graph, n_vertices, n_neighbors, max_candidates, rng_state):\n",
      "^\n",
      "\n",
      "  current_graph, n_vertices, n_neighbors, max_candidates, rng_state\n",
      "/home/isshamie/software/anaconda2/envs/umap/lib/python3.7/site-packages/numba/compiler.py:602: NumbaPerformanceWarning: \n",
      "The keyword argument 'parallel=True' was specified but no transformation for parallel execution was possible.\n",
      "\n",
      "To find out why, try turning on parallel diagnostics, see http://numba.pydata.org/numba-doc/latest/user/parallel.html#diagnostics for help.\n",
      "\n",
      "File \"../../../home/isshamie/software/anaconda2/envs/umap/lib/python3.7/site-packages/umap/nndescent.py\", line 47:\n",
      "    @numba.njit(parallel=True)\n",
      "    def nn_descent(\n",
      "    ^\n",
      "\n",
      "  self.func_ir.loc))\n"
     ]
    },
    {
     "name": "stdout",
     "output_type": "stream",
     "text": [
      "Time in minutes:1238.94629402558\n"
     ]
    }
   ],
   "source": [
    "EncodeThread().run()"
   ]
  },
  {
   "cell_type": "markdown",
   "metadata": {},
   "source": [
    "## Save values"
   ]
  },
  {
   "cell_type": "code",
   "execution_count": 9,
   "metadata": {
    "ExecuteTime": {
     "end_time": "2019-10-21T18:42:48.496258Z",
     "start_time": "2019-10-21T18:42:47.858462Z"
    }
   },
   "outputs": [
    {
     "data": {
      "text/plain": [
       "array([[ 14.301497 ,  -5.806734 ],\n",
       "       [ -0.9557591, -15.899615 ],\n",
       "       [ 11.957989 ,   9.023507 ],\n",
       "       ...,\n",
       "       [ -1.963811 ,  -0.5268107],\n",
       "       [  9.15024  ,  -1.1823806],\n",
       "       [ -9.841979 ,   0.8918857]], dtype=float32)"
      ]
     },
     "execution_count": 9,
     "metadata": {},
     "output_type": "execute_result"
    }
   ],
   "source": [
    "embedding = pickle.load(open(\"umap_results.p\",\"rb\"))\n",
    "embedding\n"
   ]
  },
  {
   "cell_type": "code",
   "execution_count": 10,
   "metadata": {
    "ExecuteTime": {
     "end_time": "2019-10-21T18:42:54.808396Z",
     "start_time": "2019-10-21T18:42:54.802506Z"
    }
   },
   "outputs": [
    {
     "data": {
      "text/plain": [
       "(25577941, 2)"
      ]
     },
     "execution_count": 10,
     "metadata": {},
     "output_type": "execute_result"
    }
   ],
   "source": [
    "embedding.shape"
   ]
  }
 ],
 "metadata": {
  "kernelspec": {
   "display_name": "Python 3",
   "language": "python",
   "name": "python3"
  },
  "language_info": {
   "codemirror_mode": {
    "name": "ipython",
    "version": 3
   },
   "file_extension": ".py",
   "mimetype": "text/x-python",
   "name": "python",
   "nbconvert_exporter": "python",
   "pygments_lexer": "ipython3",
   "version": "3.7.3"
  }
 },
 "nbformat": 4,
 "nbformat_minor": 2
}
