{
 "cells": [
  {
   "cell_type": "code",
   "execution_count": 1,
   "metadata": {
    "ExecuteTime": {
     "end_time": "2019-11-21T17:53:27.814790Z",
     "start_time": "2019-11-21T17:53:27.734119Z"
    },
    "scrolled": true
   },
   "outputs": [
    {
     "name": "stdout",
     "output_type": "stream",
     "text": [
      "Project Directory: /data2/isshamie/time_neutrophils\n",
      "\n",
      "Config paths:\n",
      "__name__ src.params\n",
      "__package__ src\n",
      "__file__ /data2/isshamie/time_neutrophils/src/params.py\n",
      "__cached__ /data2/isshamie/time_neutrophils/src/__pycache__/params.cpython-37.pyc\n",
      "path /data2/isshamie/time_neutrophils/src/params.py\n",
      "DATA_DIR /data2/isshamie/time_neutrophils/data\n",
      "PROCESSED /data2/isshamie/time_neutrophils/data/processed\n",
      "PARAM_DIR /data2/isshamie/time_neutrophils/parameters\n",
      "RESULTS /data2/isshamie/time_neutrophils/results\n",
      "FIGURES_DIR /data2/isshamie/time_neutrophils/figures\n"
     ]
    }
   ],
   "source": [
    "from src.params import FIGURES_DIR, RESULTS, PROCESSED, DATA_DIR"
   ]
  },
  {
   "cell_type": "code",
   "execution_count": 2,
   "metadata": {
    "ExecuteTime": {
     "end_time": "2019-11-21T17:53:28.711590Z",
     "start_time": "2019-11-21T17:53:27.817558Z"
    }
   },
   "outputs": [],
   "source": [
    "import os\n",
    "import pickle\n",
    "import seaborn as sns\n",
    "import matplotlib.pyplot as plt\n",
    "import pandas as pd\n",
    "import glob\n",
    "%matplotlib inline"
   ]
  },
  {
   "cell_type": "code",
   "execution_count": 4,
   "metadata": {
    "ExecuteTime": {
     "end_time": "2019-11-21T17:53:41.368854Z",
     "start_time": "2019-11-21T17:53:41.323818Z"
    }
   },
   "outputs": [],
   "source": [
    "fig_dir = os.path.join(FIGURES_DIR,\"tsne_out\", \"0\")\n",
    "if not os.path.exists(fig_dir):\n",
    "    os.makedirs(fig_dir)\n",
    "umap_result = os.path.join(RESULTS,\"tsne_out\", \"0\", \"embedding.p\")"
   ]
  },
  {
   "cell_type": "code",
   "execution_count": 6,
   "metadata": {
    "ExecuteTime": {
     "end_time": "2019-11-21T17:54:28.517016Z",
     "start_time": "2019-11-21T17:53:50.257178Z"
    },
    "scrolled": true
   },
   "outputs": [
    {
     "data": {
      "text/html": [
       "<div>\n",
       "<style scoped>\n",
       "    .dataframe tbody tr th:only-of-type {\n",
       "        vertical-align: middle;\n",
       "    }\n",
       "\n",
       "    .dataframe tbody tr th {\n",
       "        vertical-align: top;\n",
       "    }\n",
       "\n",
       "    .dataframe thead th {\n",
       "        text-align: right;\n",
       "    }\n",
       "</style>\n",
       "<table border=\"1\" class=\"dataframe\">\n",
       "  <thead>\n",
       "    <tr style=\"text-align: right;\">\n",
       "      <th></th>\n",
       "      <th>Timepoint</th>\n",
       "      <th>Stimuli</th>\n",
       "      <th>Sample</th>\n",
       "      <th>Genotype</th>\n",
       "      <th>Stimuli Names</th>\n",
       "    </tr>\n",
       "  </thead>\n",
       "  <tbody>\n",
       "    <tr>\n",
       "      <td>0_2G3</td>\n",
       "      <td>3</td>\n",
       "      <td>G</td>\n",
       "      <td>2</td>\n",
       "      <td>WT</td>\n",
       "      <td>Nec1s</td>\n",
       "    </tr>\n",
       "    <tr>\n",
       "      <td>1_2G3</td>\n",
       "      <td>3</td>\n",
       "      <td>G</td>\n",
       "      <td>2</td>\n",
       "      <td>WT</td>\n",
       "      <td>Nec1s</td>\n",
       "    </tr>\n",
       "    <tr>\n",
       "      <td>2_2G3</td>\n",
       "      <td>3</td>\n",
       "      <td>G</td>\n",
       "      <td>2</td>\n",
       "      <td>WT</td>\n",
       "      <td>Nec1s</td>\n",
       "    </tr>\n",
       "    <tr>\n",
       "      <td>3_2G3</td>\n",
       "      <td>3</td>\n",
       "      <td>G</td>\n",
       "      <td>2</td>\n",
       "      <td>WT</td>\n",
       "      <td>Nec1s</td>\n",
       "    </tr>\n",
       "    <tr>\n",
       "      <td>4_2G3</td>\n",
       "      <td>3</td>\n",
       "      <td>G</td>\n",
       "      <td>2</td>\n",
       "      <td>WT</td>\n",
       "      <td>Nec1s</td>\n",
       "    </tr>\n",
       "    <tr>\n",
       "      <td>...</td>\n",
       "      <td>...</td>\n",
       "      <td>...</td>\n",
       "      <td>...</td>\n",
       "      <td>...</td>\n",
       "      <td>...</td>\n",
       "    </tr>\n",
       "    <tr>\n",
       "      <td>4592_4B46</td>\n",
       "      <td>46</td>\n",
       "      <td>B</td>\n",
       "      <td>4</td>\n",
       "      <td>WT</td>\n",
       "      <td>zVD</td>\n",
       "    </tr>\n",
       "    <tr>\n",
       "      <td>4593_4B46</td>\n",
       "      <td>46</td>\n",
       "      <td>B</td>\n",
       "      <td>4</td>\n",
       "      <td>WT</td>\n",
       "      <td>zVD</td>\n",
       "    </tr>\n",
       "    <tr>\n",
       "      <td>4594_4B46</td>\n",
       "      <td>46</td>\n",
       "      <td>B</td>\n",
       "      <td>4</td>\n",
       "      <td>WT</td>\n",
       "      <td>zVD</td>\n",
       "    </tr>\n",
       "    <tr>\n",
       "      <td>4595_4B46</td>\n",
       "      <td>46</td>\n",
       "      <td>B</td>\n",
       "      <td>4</td>\n",
       "      <td>WT</td>\n",
       "      <td>zVD</td>\n",
       "    </tr>\n",
       "    <tr>\n",
       "      <td>4596_4B46</td>\n",
       "      <td>46</td>\n",
       "      <td>B</td>\n",
       "      <td>4</td>\n",
       "      <td>WT</td>\n",
       "      <td>zVD</td>\n",
       "    </tr>\n",
       "  </tbody>\n",
       "</table>\n",
       "<p>25577941 rows × 5 columns</p>\n",
       "</div>"
      ],
      "text/plain": [
       "           Timepoint Stimuli  Sample Genotype Stimuli Names\n",
       "0_2G3              3       G       2       WT         Nec1s\n",
       "1_2G3              3       G       2       WT         Nec1s\n",
       "2_2G3              3       G       2       WT         Nec1s\n",
       "3_2G3              3       G       2       WT         Nec1s\n",
       "4_2G3              3       G       2       WT         Nec1s\n",
       "...              ...     ...     ...      ...           ...\n",
       "4592_4B46         46       B       4       WT           zVD\n",
       "4593_4B46         46       B       4       WT           zVD\n",
       "4594_4B46         46       B       4       WT           zVD\n",
       "4595_4B46         46       B       4       WT           zVD\n",
       "4596_4B46         46       B       4       WT           zVD\n",
       "\n",
       "[25577941 rows x 5 columns]"
      ]
     },
     "execution_count": 6,
     "metadata": {},
     "output_type": "execute_result"
    }
   ],
   "source": [
    "meta_df = pd.read_csv(os.path.join(DATA_DIR, \"processed\",\"meta.tsv\"),sep=\"\\t\", index_col=0)\n",
    "meta_df"
   ]
  },
  {
   "cell_type": "code",
   "execution_count": 7,
   "metadata": {
    "ExecuteTime": {
     "end_time": "2019-11-21T17:54:47.019753Z",
     "start_time": "2019-11-21T17:54:28.519439Z"
    },
    "scrolled": true
   },
   "outputs": [
    {
     "data": {
      "text/html": [
       "<div>\n",
       "<style scoped>\n",
       "    .dataframe tbody tr th:only-of-type {\n",
       "        vertical-align: middle;\n",
       "    }\n",
       "\n",
       "    .dataframe tbody tr th {\n",
       "        vertical-align: top;\n",
       "    }\n",
       "\n",
       "    .dataframe thead th {\n",
       "        text-align: right;\n",
       "    }\n",
       "</style>\n",
       "<table border=\"1\" class=\"dataframe\">\n",
       "  <thead>\n",
       "    <tr style=\"text-align: right;\">\n",
       "      <th></th>\n",
       "      <th>Cell Size</th>\n",
       "      <th>Cell Circularity</th>\n",
       "      <th>Cell Aspect Ratio</th>\n",
       "      <th>Cell Tracker Intensity</th>\n",
       "      <th>PI Intensity</th>\n",
       "      <th>AnexinV Intensity</th>\n",
       "    </tr>\n",
       "  </thead>\n",
       "  <tbody>\n",
       "    <tr>\n",
       "      <td>0_2G3</td>\n",
       "      <td>4.514737</td>\n",
       "      <td>-35.280948</td>\n",
       "      <td>4.073811</td>\n",
       "      <td>-0.549886</td>\n",
       "      <td>-1.508243</td>\n",
       "      <td>-1.286249</td>\n",
       "    </tr>\n",
       "    <tr>\n",
       "      <td>1_2G3</td>\n",
       "      <td>-0.206776</td>\n",
       "      <td>-23.196179</td>\n",
       "      <td>18.581889</td>\n",
       "      <td>-1.036545</td>\n",
       "      <td>-1.525713</td>\n",
       "      <td>-1.696325</td>\n",
       "    </tr>\n",
       "    <tr>\n",
       "      <td>2_2G3</td>\n",
       "      <td>-1.666082</td>\n",
       "      <td>-10.317551</td>\n",
       "      <td>10.892828</td>\n",
       "      <td>-0.955933</td>\n",
       "      <td>-1.518481</td>\n",
       "      <td>-1.653310</td>\n",
       "    </tr>\n",
       "    <tr>\n",
       "      <td>3_2G3</td>\n",
       "      <td>-1.082179</td>\n",
       "      <td>-15.445497</td>\n",
       "      <td>13.969401</td>\n",
       "      <td>-0.843089</td>\n",
       "      <td>-1.504416</td>\n",
       "      <td>-1.656892</td>\n",
       "    </tr>\n",
       "    <tr>\n",
       "      <td>4_2G3</td>\n",
       "      <td>-3.274187</td>\n",
       "      <td>0.564852</td>\n",
       "      <td>2.419749</td>\n",
       "      <td>-0.857998</td>\n",
       "      <td>-1.514578</td>\n",
       "      <td>-1.643740</td>\n",
       "    </tr>\n",
       "    <tr>\n",
       "      <td>...</td>\n",
       "      <td>...</td>\n",
       "      <td>...</td>\n",
       "      <td>...</td>\n",
       "      <td>...</td>\n",
       "      <td>...</td>\n",
       "      <td>...</td>\n",
       "    </tr>\n",
       "    <tr>\n",
       "      <td>4592_4B46</td>\n",
       "      <td>0.928028</td>\n",
       "      <td>0.081115</td>\n",
       "      <td>-0.633219</td>\n",
       "      <td>-1.657626</td>\n",
       "      <td>-1.026704</td>\n",
       "      <td>0.483296</td>\n",
       "    </tr>\n",
       "    <tr>\n",
       "      <td>4593_4B46</td>\n",
       "      <td>1.411085</td>\n",
       "      <td>-5.132832</td>\n",
       "      <td>4.370616</td>\n",
       "      <td>-2.036756</td>\n",
       "      <td>-0.607149</td>\n",
       "      <td>0.626727</td>\n",
       "    </tr>\n",
       "    <tr>\n",
       "      <td>4594_4B46</td>\n",
       "      <td>0.641696</td>\n",
       "      <td>-0.609064</td>\n",
       "      <td>1.004787</td>\n",
       "      <td>-1.695808</td>\n",
       "      <td>0.370317</td>\n",
       "      <td>0.438746</td>\n",
       "    </tr>\n",
       "    <tr>\n",
       "      <td>4595_4B46</td>\n",
       "      <td>-1.253652</td>\n",
       "      <td>0.564852</td>\n",
       "      <td>0.284477</td>\n",
       "      <td>-0.612722</td>\n",
       "      <td>1.667999</td>\n",
       "      <td>0.419938</td>\n",
       "    </tr>\n",
       "    <tr>\n",
       "      <td>4596_4B46</td>\n",
       "      <td>0.557869</td>\n",
       "      <td>-3.073115</td>\n",
       "      <td>3.642955</td>\n",
       "      <td>-1.979479</td>\n",
       "      <td>-0.911976</td>\n",
       "      <td>0.342143</td>\n",
       "    </tr>\n",
       "  </tbody>\n",
       "</table>\n",
       "<p>25577941 rows × 6 columns</p>\n",
       "</div>"
      ],
      "text/plain": [
       "           Cell Size  Cell Circularity  Cell Aspect Ratio  \\\n",
       "0_2G3       4.514737        -35.280948           4.073811   \n",
       "1_2G3      -0.206776        -23.196179          18.581889   \n",
       "2_2G3      -1.666082        -10.317551          10.892828   \n",
       "3_2G3      -1.082179        -15.445497          13.969401   \n",
       "4_2G3      -3.274187          0.564852           2.419749   \n",
       "...              ...               ...                ...   \n",
       "4592_4B46   0.928028          0.081115          -0.633219   \n",
       "4593_4B46   1.411085         -5.132832           4.370616   \n",
       "4594_4B46   0.641696         -0.609064           1.004787   \n",
       "4595_4B46  -1.253652          0.564852           0.284477   \n",
       "4596_4B46   0.557869         -3.073115           3.642955   \n",
       "\n",
       "           Cell Tracker Intensity  PI Intensity  AnexinV Intensity  \n",
       "0_2G3                   -0.549886     -1.508243          -1.286249  \n",
       "1_2G3                   -1.036545     -1.525713          -1.696325  \n",
       "2_2G3                   -0.955933     -1.518481          -1.653310  \n",
       "3_2G3                   -0.843089     -1.504416          -1.656892  \n",
       "4_2G3                   -0.857998     -1.514578          -1.643740  \n",
       "...                           ...           ...                ...  \n",
       "4592_4B46               -1.657626     -1.026704           0.483296  \n",
       "4593_4B46               -2.036756     -0.607149           0.626727  \n",
       "4594_4B46               -1.695808      0.370317           0.438746  \n",
       "4595_4B46               -0.612722      1.667999           0.419938  \n",
       "4596_4B46               -1.979479     -0.911976           0.342143  \n",
       "\n",
       "[25577941 rows x 6 columns]"
      ]
     },
     "execution_count": 7,
     "metadata": {},
     "output_type": "execute_result"
    }
   ],
   "source": [
    "raw = pickle.load(open(os.path.join(PROCESSED, \"data_df_log10_z.p\"),\"rb\"))\n",
    "raw"
   ]
  },
  {
   "cell_type": "code",
   "execution_count": 11,
   "metadata": {
    "ExecuteTime": {
     "end_time": "2019-11-21T17:56:14.559076Z",
     "start_time": "2019-11-21T17:56:14.345318Z"
    }
   },
   "outputs": [
    {
     "data": {
      "text/plain": [
       "<matplotlib.collections.PathCollection at 0x7fdec0171a58>"
      ]
     },
     "execution_count": 11,
     "metadata": {},
     "output_type": "execute_result"
    },
    {
     "data": {
      "image/png": "[encoded data removed]",
      "text/plain": [
       "<Figure size 432x288 with 1 Axes>"
      ]
     },
     "metadata": {
      "needs_background": "light"
     },
     "output_type": "display_data"
    }
   ],
   "source": [
    "plt.scatter(embedding[:,0], embedding[:,1])"
   ]
  },
  {
   "cell_type": "code",
   "execution_count": 8,
   "metadata": {
    "ExecuteTime": {
     "end_time": "2019-11-21T17:54:47.094338Z",
     "start_time": "2019-11-21T17:54:47.021852Z"
    }
   },
   "outputs": [
    {
     "ename": "ValueError",
     "evalue": "Length of values does not match length of index",
     "output_type": "error",
     "traceback": [
      "\u001b[0;31m---------------------------------------------------------------------------\u001b[0m",
      "\u001b[0;31mValueError\u001b[0m                                Traceback (most recent call last)",
      "\u001b[0;32m<ipython-input-8-946f830f3b22>\u001b[0m in \u001b[0;36m<module>\u001b[0;34m\u001b[0m\n\u001b[1;32m      3\u001b[0m \u001b[0;34m\u001b[0m\u001b[0m\n\u001b[1;32m      4\u001b[0m \u001b[0mdf\u001b[0m \u001b[0;34m=\u001b[0m \u001b[0mmeta_df\u001b[0m\u001b[0;34m\u001b[0m\u001b[0;34m\u001b[0m\u001b[0m\n\u001b[0;32m----> 5\u001b[0;31m \u001b[0mdf\u001b[0m\u001b[0;34m[\u001b[0m\u001b[0;34m\"embedding_1\"\u001b[0m\u001b[0;34m]\u001b[0m \u001b[0;34m=\u001b[0m \u001b[0membedding\u001b[0m\u001b[0;34m[\u001b[0m\u001b[0;34m:\u001b[0m\u001b[0;34m,\u001b[0m\u001b[0;36m0\u001b[0m\u001b[0;34m]\u001b[0m\u001b[0;34m\u001b[0m\u001b[0;34m\u001b[0m\u001b[0m\n\u001b[0m\u001b[1;32m      6\u001b[0m \u001b[0mdf\u001b[0m\u001b[0;34m[\u001b[0m\u001b[0;34m\"embedding_2\"\u001b[0m\u001b[0;34m]\u001b[0m \u001b[0;34m=\u001b[0m \u001b[0membedding\u001b[0m\u001b[0;34m[\u001b[0m\u001b[0;34m:\u001b[0m\u001b[0;34m,\u001b[0m\u001b[0;36m1\u001b[0m\u001b[0;34m]\u001b[0m\u001b[0;34m\u001b[0m\u001b[0;34m\u001b[0m\u001b[0m\n\u001b[1;32m      7\u001b[0m \u001b[0mdf\u001b[0m \u001b[0;34m=\u001b[0m \u001b[0mpd\u001b[0m\u001b[0;34m.\u001b[0m\u001b[0mmerge\u001b[0m\u001b[0;34m(\u001b[0m\u001b[0mdf\u001b[0m\u001b[0;34m,\u001b[0m \u001b[0mraw\u001b[0m\u001b[0;34m,\u001b[0m\u001b[0mhow\u001b[0m\u001b[0;34m=\u001b[0m\u001b[0;34m'inner'\u001b[0m\u001b[0;34m,\u001b[0m\u001b[0mleft_index\u001b[0m\u001b[0;34m=\u001b[0m\u001b[0;32mTrue\u001b[0m\u001b[0;34m,\u001b[0m \u001b[0mright_index\u001b[0m\u001b[0;34m=\u001b[0m\u001b[0;32mTrue\u001b[0m\u001b[0;34m)\u001b[0m\u001b[0;34m\u001b[0m\u001b[0;34m\u001b[0m\u001b[0m\n",
      "\u001b[0;32m~/software/anaconda2/envs/umap/lib/python3.7/site-packages/pandas/core/frame.py\u001b[0m in \u001b[0;36m__setitem__\u001b[0;34m(self, key, value)\u001b[0m\n\u001b[1;32m   3470\u001b[0m         \u001b[0;32melse\u001b[0m\u001b[0;34m:\u001b[0m\u001b[0;34m\u001b[0m\u001b[0;34m\u001b[0m\u001b[0m\n\u001b[1;32m   3471\u001b[0m             \u001b[0;31m# set column\u001b[0m\u001b[0;34m\u001b[0m\u001b[0;34m\u001b[0m\u001b[0;34m\u001b[0m\u001b[0m\n\u001b[0;32m-> 3472\u001b[0;31m             \u001b[0mself\u001b[0m\u001b[0;34m.\u001b[0m\u001b[0m_set_item\u001b[0m\u001b[0;34m(\u001b[0m\u001b[0mkey\u001b[0m\u001b[0;34m,\u001b[0m \u001b[0mvalue\u001b[0m\u001b[0;34m)\u001b[0m\u001b[0;34m\u001b[0m\u001b[0;34m\u001b[0m\u001b[0m\n\u001b[0m\u001b[1;32m   3473\u001b[0m \u001b[0;34m\u001b[0m\u001b[0m\n\u001b[1;32m   3474\u001b[0m     \u001b[0;32mdef\u001b[0m \u001b[0m_setitem_slice\u001b[0m\u001b[0;34m(\u001b[0m\u001b[0mself\u001b[0m\u001b[0;34m,\u001b[0m \u001b[0mkey\u001b[0m\u001b[0;34m,\u001b[0m \u001b[0mvalue\u001b[0m\u001b[0;34m)\u001b[0m\u001b[0;34m:\u001b[0m\u001b[0;34m\u001b[0m\u001b[0;34m\u001b[0m\u001b[0m\n",
      "\u001b[0;32m~/software/anaconda2/envs/umap/lib/python3.7/site-packages/pandas/core/frame.py\u001b[0m in \u001b[0;36m_set_item\u001b[0;34m(self, key, value)\u001b[0m\n\u001b[1;32m   3547\u001b[0m \u001b[0;34m\u001b[0m\u001b[0m\n\u001b[1;32m   3548\u001b[0m         \u001b[0mself\u001b[0m\u001b[0;34m.\u001b[0m\u001b[0m_ensure_valid_index\u001b[0m\u001b[0;34m(\u001b[0m\u001b[0mvalue\u001b[0m\u001b[0;34m)\u001b[0m\u001b[0;34m\u001b[0m\u001b[0;34m\u001b[0m\u001b[0m\n\u001b[0;32m-> 3549\u001b[0;31m         \u001b[0mvalue\u001b[0m \u001b[0;34m=\u001b[0m \u001b[0mself\u001b[0m\u001b[0;34m.\u001b[0m\u001b[0m_sanitize_column\u001b[0m\u001b[0;34m(\u001b[0m\u001b[0mkey\u001b[0m\u001b[0;34m,\u001b[0m \u001b[0mvalue\u001b[0m\u001b[0;34m)\u001b[0m\u001b[0;34m\u001b[0m\u001b[0;34m\u001b[0m\u001b[0m\n\u001b[0m\u001b[1;32m   3550\u001b[0m         \u001b[0mNDFrame\u001b[0m\u001b[0;34m.\u001b[0m\u001b[0m_set_item\u001b[0m\u001b[0;34m(\u001b[0m\u001b[0mself\u001b[0m\u001b[0;34m,\u001b[0m \u001b[0mkey\u001b[0m\u001b[0;34m,\u001b[0m \u001b[0mvalue\u001b[0m\u001b[0;34m)\u001b[0m\u001b[0;34m\u001b[0m\u001b[0;34m\u001b[0m\u001b[0m\n\u001b[1;32m   3551\u001b[0m \u001b[0;34m\u001b[0m\u001b[0m\n",
      "\u001b[0;32m~/software/anaconda2/envs/umap/lib/python3.7/site-packages/pandas/core/frame.py\u001b[0m in \u001b[0;36m_sanitize_column\u001b[0;34m(self, key, value, broadcast)\u001b[0m\n\u001b[1;32m   3732\u001b[0m \u001b[0;34m\u001b[0m\u001b[0m\n\u001b[1;32m   3733\u001b[0m             \u001b[0;31m# turn me into an ndarray\u001b[0m\u001b[0;34m\u001b[0m\u001b[0;34m\u001b[0m\u001b[0;34m\u001b[0m\u001b[0m\n\u001b[0;32m-> 3734\u001b[0;31m             \u001b[0mvalue\u001b[0m \u001b[0;34m=\u001b[0m \u001b[0msanitize_index\u001b[0m\u001b[0;34m(\u001b[0m\u001b[0mvalue\u001b[0m\u001b[0;34m,\u001b[0m \u001b[0mself\u001b[0m\u001b[0;34m.\u001b[0m\u001b[0mindex\u001b[0m\u001b[0;34m,\u001b[0m \u001b[0mcopy\u001b[0m\u001b[0;34m=\u001b[0m\u001b[0;32mFalse\u001b[0m\u001b[0;34m)\u001b[0m\u001b[0;34m\u001b[0m\u001b[0;34m\u001b[0m\u001b[0m\n\u001b[0m\u001b[1;32m   3735\u001b[0m             \u001b[0;32mif\u001b[0m \u001b[0;32mnot\u001b[0m \u001b[0misinstance\u001b[0m\u001b[0;34m(\u001b[0m\u001b[0mvalue\u001b[0m\u001b[0;34m,\u001b[0m \u001b[0;34m(\u001b[0m\u001b[0mnp\u001b[0m\u001b[0;34m.\u001b[0m\u001b[0mndarray\u001b[0m\u001b[0;34m,\u001b[0m \u001b[0mIndex\u001b[0m\u001b[0;34m)\u001b[0m\u001b[0;34m)\u001b[0m\u001b[0;34m:\u001b[0m\u001b[0;34m\u001b[0m\u001b[0;34m\u001b[0m\u001b[0m\n\u001b[1;32m   3736\u001b[0m                 \u001b[0;32mif\u001b[0m \u001b[0misinstance\u001b[0m\u001b[0;34m(\u001b[0m\u001b[0mvalue\u001b[0m\u001b[0;34m,\u001b[0m \u001b[0mlist\u001b[0m\u001b[0;34m)\u001b[0m \u001b[0;32mand\u001b[0m \u001b[0mlen\u001b[0m\u001b[0;34m(\u001b[0m\u001b[0mvalue\u001b[0m\u001b[0;34m)\u001b[0m \u001b[0;34m>\u001b[0m \u001b[0;36m0\u001b[0m\u001b[0;34m:\u001b[0m\u001b[0;34m\u001b[0m\u001b[0;34m\u001b[0m\u001b[0m\n",
      "\u001b[0;32m~/software/anaconda2/envs/umap/lib/python3.7/site-packages/pandas/core/internals/construction.py\u001b[0m in \u001b[0;36msanitize_index\u001b[0;34m(data, index, copy)\u001b[0m\n\u001b[1;32m    610\u001b[0m \u001b[0;34m\u001b[0m\u001b[0m\n\u001b[1;32m    611\u001b[0m     \u001b[0;32mif\u001b[0m \u001b[0mlen\u001b[0m\u001b[0;34m(\u001b[0m\u001b[0mdata\u001b[0m\u001b[0;34m)\u001b[0m \u001b[0;34m!=\u001b[0m \u001b[0mlen\u001b[0m\u001b[0;34m(\u001b[0m\u001b[0mindex\u001b[0m\u001b[0;34m)\u001b[0m\u001b[0;34m:\u001b[0m\u001b[0;34m\u001b[0m\u001b[0;34m\u001b[0m\u001b[0m\n\u001b[0;32m--> 612\u001b[0;31m         \u001b[0;32mraise\u001b[0m \u001b[0mValueError\u001b[0m\u001b[0;34m(\u001b[0m\u001b[0;34m\"Length of values does not match length of index\"\u001b[0m\u001b[0;34m)\u001b[0m\u001b[0;34m\u001b[0m\u001b[0;34m\u001b[0m\u001b[0m\n\u001b[0m\u001b[1;32m    613\u001b[0m \u001b[0;34m\u001b[0m\u001b[0m\n\u001b[1;32m    614\u001b[0m     \u001b[0;32mif\u001b[0m \u001b[0misinstance\u001b[0m\u001b[0;34m(\u001b[0m\u001b[0mdata\u001b[0m\u001b[0;34m,\u001b[0m \u001b[0mABCIndexClass\u001b[0m\u001b[0;34m)\u001b[0m \u001b[0;32mand\u001b[0m \u001b[0;32mnot\u001b[0m \u001b[0mcopy\u001b[0m\u001b[0;34m:\u001b[0m\u001b[0;34m\u001b[0m\u001b[0;34m\u001b[0m\u001b[0m\n",
      "\u001b[0;31mValueError\u001b[0m: Length of values does not match length of index"
     ]
    }
   ],
   "source": [
    "embedding = pickle.load(open(umap_result,\"rb\"))\n",
    "embedding\n",
    "\n",
    "df = meta_df\n",
    "df[\"embedding_1\"] = embedding[:,0]\n",
    "df[\"embedding_2\"] = embedding[:,1]\n",
    "df = pd.merge(df, raw,how='inner',left_index=True, right_index=True)\n"
   ]
  },
  {
   "cell_type": "code",
   "execution_count": null,
   "metadata": {
    "ExecuteTime": {
     "end_time": "2019-11-21T17:54:47.096233Z",
     "start_time": "2019-11-21T17:54:06.564Z"
    }
   },
   "outputs": [],
   "source": [
    "df"
   ]
  },
  {
   "cell_type": "code",
   "execution_count": null,
   "metadata": {
    "ExecuteTime": {
     "end_time": "2019-11-21T17:54:47.097305Z",
     "start_time": "2019-11-21T17:54:43.620Z"
    }
   },
   "outputs": [],
   "source": [
    "n_iter = 10\n",
    "n_sample = 1000\n",
    "# Create figures\n",
    "color_labels = df[\"Stimuli Names\"].unique()\n",
    "rgb_values = (sns.color_palette(\"Set2\", len(color_labels)))\n",
    "color_map = dict(zip(color_labels, rgb_values))\n",
    "\n",
    "\n",
    "for i in range(n_iter):\n",
    "    curr_df = df.sample(n = n_sample, replace=False)\n",
    "    plt.figure(figsize=(15,15))\n",
    "    pallete=sns.color_palette(\"bright\", len(color_labels))\n",
    "    sns.scatterplot(data=curr_df,x=\"embedding_1\", y=\"embedding_2\", palette=pallete, hue='Stimuli Names',style=\"Genotype\",\n",
    "                            size=0.5)\n",
    "\n",
    "    plt.legend(loc='upper right')\n",
    "\n",
    "\n",
    "\n",
    "    for i in raw.columns.values:\n",
    "        plt.figure(figsize=(15,15))\n",
    "        pallete=sns.color_palette(\"bright\", len(color_labels))\n",
    "        sns.scatterplot(data=curr_df,x=\"embedding_1\", y=\"embedding_2\", hue=i,\n",
    "                        style=\"Genotype\", size=0.5)\n",
    "        #df.plot.scatter(\"embedding_1\",\"embedding_2\", hue=df['Stimuli'])#.map(color_map),s=0.5)\n",
    "        plt.legend(loc='upper right')\n"
   ]
  },
  {
   "cell_type": "code",
   "execution_count": null,
   "metadata": {},
   "outputs": [],
   "source": []
  },
  {
   "cell_type": "code",
   "execution_count": null,
   "metadata": {},
   "outputs": [],
   "source": []
  }
 ],
 "metadata": {
  "kernelspec": {
   "display_name": "Python 3",
   "language": "python",
   "name": "python3"
  },
  "language_info": {
   "codemirror_mode": {
    "name": "ipython",
    "version": 3
   },
   "file_extension": ".py",
   "mimetype": "text/x-python",
   "name": "python",
   "nbconvert_exporter": "python",
   "pygments_lexer": "ipython3",
   "version": "3.7.3"
  }
 },
 "nbformat": 4,
 "nbformat_minor": 2
}
