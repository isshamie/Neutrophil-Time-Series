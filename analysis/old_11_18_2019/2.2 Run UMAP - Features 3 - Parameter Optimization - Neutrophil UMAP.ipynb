{
 "cells": [
  {
   "cell_type": "code",
   "execution_count": 1,
   "metadata": {
    "ExecuteTime": {
     "end_time": "2019-11-06T19:06:56.646049Z",
     "start_time": "2019-11-06T19:06:51.031449Z"
    }
   },
   "outputs": [],
   "source": [
    "import pymc3\n",
    "import umap\n",
    "import numpy as np\n",
    "import pandas as pd\n",
    "import matplotlib.pyplot as plt\n",
    "import seaborn as sns\n",
    "import glob\n",
    "import time\n",
    "import os\n",
    "from scipy.stats import zscore\n",
    "import threading\n",
    "import pickle\n",
    "%matplotlib inline"
   ]
  },
  {
   "cell_type": "code",
   "execution_count": 2,
   "metadata": {
    "ExecuteTime": {
     "end_time": "2019-11-06T19:07:31.602831Z",
     "start_time": "2019-11-06T19:07:31.599443Z"
    }
   },
   "outputs": [],
   "source": [
    "savedir = \"../results/umap_out/2\""
   ]
  },
  {
   "cell_type": "markdown",
   "metadata": {},
   "source": [
    "## Load in z-scored data"
   ]
  },
  {
   "cell_type": "code",
   "execution_count": 3,
   "metadata": {
    "ExecuteTime": {
     "end_time": "2019-11-06T19:07:40.530062Z",
     "start_time": "2019-11-06T19:07:31.617288Z"
    }
   },
   "outputs": [
    {
     "data": {
      "text/html": [
       "<div>\n",
       "<style scoped>\n",
       "    .dataframe tbody tr th:only-of-type {\n",
       "        vertical-align: middle;\n",
       "    }\n",
       "\n",
       "    .dataframe tbody tr th {\n",
       "        vertical-align: top;\n",
       "    }\n",
       "\n",
       "    .dataframe thead th {\n",
       "        text-align: right;\n",
       "    }\n",
       "</style>\n",
       "<table border=\"1\" class=\"dataframe\">\n",
       "  <thead>\n",
       "    <tr style=\"text-align: right;\">\n",
       "      <th></th>\n",
       "      <th>Cell Size</th>\n",
       "      <th>Cell Circularity</th>\n",
       "      <th>Cell Aspect Ratio</th>\n",
       "      <th>Cell Tracker Intensity</th>\n",
       "      <th>PI Intensity</th>\n",
       "      <th>AnexinV Intensity</th>\n",
       "    </tr>\n",
       "  </thead>\n",
       "  <tbody>\n",
       "    <tr>\n",
       "      <td>0_2G3</td>\n",
       "      <td>62.4662</td>\n",
       "      <td>-9.764209</td>\n",
       "      <td>2.257279</td>\n",
       "      <td>-0.613713</td>\n",
       "      <td>-0.912228</td>\n",
       "      <td>-1.053166</td>\n",
       "    </tr>\n",
       "    <tr>\n",
       "      <td>1_2G3</td>\n",
       "      <td>-0.327282</td>\n",
       "      <td>-9.343066</td>\n",
       "      <td>84.071640</td>\n",
       "      <td>-0.941838</td>\n",
       "      <td>-0.915353</td>\n",
       "      <td>-1.213429</td>\n",
       "    </tr>\n",
       "    <tr>\n",
       "      <td>2_2G3</td>\n",
       "      <td>-0.590511</td>\n",
       "      <td>-7.180160</td>\n",
       "      <td>15.145722</td>\n",
       "      <td>-0.891318</td>\n",
       "      <td>-0.914065</td>\n",
       "      <td>-1.198231</td>\n",
       "    </tr>\n",
       "    <tr>\n",
       "      <td>3_2G3</td>\n",
       "      <td>-0.531419</td>\n",
       "      <td>-8.459477</td>\n",
       "      <td>30.618888</td>\n",
       "      <td>-0.818131</td>\n",
       "      <td>-0.911537</td>\n",
       "      <td>-1.199510</td>\n",
       "    </tr>\n",
       "    <tr>\n",
       "      <td>4_2G3</td>\n",
       "      <td>-0.644231</td>\n",
       "      <td>0.652443</td>\n",
       "      <td>1.079209</td>\n",
       "      <td>-0.827969</td>\n",
       "      <td>-0.913367</td>\n",
       "      <td>-1.194802</td>\n",
       "    </tr>\n",
       "  </tbody>\n",
       "</table>\n",
       "</div>"
      ],
      "text/plain": [
       "      Cell Size  Cell Circularity  Cell Aspect Ratio  Cell Tracker Intensity  \\\n",
       "0_2G3   62.4662         -9.764209           2.257279               -0.613713   \n",
       "1_2G3 -0.327282         -9.343066          84.071640               -0.941838   \n",
       "2_2G3 -0.590511         -7.180160          15.145722               -0.891318   \n",
       "3_2G3 -0.531419         -8.459477          30.618888               -0.818131   \n",
       "4_2G3 -0.644231          0.652443           1.079209               -0.827969   \n",
       "\n",
       "       PI Intensity  AnexinV Intensity  \n",
       "0_2G3     -0.912228          -1.053166  \n",
       "1_2G3     -0.915353          -1.213429  \n",
       "2_2G3     -0.914065          -1.198231  \n",
       "3_2G3     -0.911537          -1.199510  \n",
       "4_2G3     -0.913367          -1.194802  "
      ]
     },
     "execution_count": 3,
     "metadata": {},
     "output_type": "execute_result"
    }
   ],
   "source": [
    "df = pickle.load(open(\"../data/processed/fc_z.p\",\"rb\"))\n",
    "df.head()"
   ]
  },
  {
   "cell_type": "markdown",
   "metadata": {},
   "source": [
    "## Choose\n",
    "a) n_neighbors - UMAP parameter similar to perplexity in t-sne   \n",
    "b) min_distance - UMAP parameter reflecting how far apart points can be  \n",
    "b) n_subsample - number of samples to use from each time-stimulus-genotype combination  \n",
    "c) n_iter - number of times to run the umap subsample  "
   ]
  },
  {
   "cell_type": "code",
   "execution_count": 4,
   "metadata": {
    "ExecuteTime": {
     "end_time": "2019-11-06T19:07:40.535341Z",
     "start_time": "2019-11-06T19:07:40.531992Z"
    }
   },
   "outputs": [],
   "source": [
    "n_neighbors_l = [3, 5, 10, 15, 100]\n",
    "min_distance_l = [0.1, 0]\n",
    "n_subsample = 100\n",
    "n_iter = 3"
   ]
  },
  {
   "cell_type": "code",
   "execution_count": 5,
   "metadata": {
    "ExecuteTime": {
     "end_time": "2019-11-06T19:08:28.659451Z",
     "start_time": "2019-11-06T19:07:40.537230Z"
    }
   },
   "outputs": [],
   "source": [
    "meta_df = pd.read_csv(\"../data/meta.tsv\",sep=\"\\t\",index_col=0)"
   ]
  },
  {
   "cell_type": "code",
   "execution_count": 6,
   "metadata": {
    "ExecuteTime": {
     "end_time": "2019-11-06T19:08:28.683680Z",
     "start_time": "2019-11-06T19:08:28.662140Z"
    },
    "scrolled": true
   },
   "outputs": [
    {
     "data": {
      "text/html": [
       "<div>\n",
       "<style scoped>\n",
       "    .dataframe tbody tr th:only-of-type {\n",
       "        vertical-align: middle;\n",
       "    }\n",
       "\n",
       "    .dataframe tbody tr th {\n",
       "        vertical-align: top;\n",
       "    }\n",
       "\n",
       "    .dataframe thead th {\n",
       "        text-align: right;\n",
       "    }\n",
       "</style>\n",
       "<table border=\"1\" class=\"dataframe\">\n",
       "  <thead>\n",
       "    <tr style=\"text-align: right;\">\n",
       "      <th></th>\n",
       "      <th>Timepoint</th>\n",
       "      <th>Stimuli</th>\n",
       "      <th>Sample</th>\n",
       "      <th>Genotype</th>\n",
       "      <th>Stimuli Names</th>\n",
       "    </tr>\n",
       "  </thead>\n",
       "  <tbody>\n",
       "    <tr>\n",
       "      <td>0_2G3</td>\n",
       "      <td>3</td>\n",
       "      <td>G</td>\n",
       "      <td>2</td>\n",
       "      <td>WT</td>\n",
       "      <td>Nec1s</td>\n",
       "    </tr>\n",
       "    <tr>\n",
       "      <td>1_2G3</td>\n",
       "      <td>3</td>\n",
       "      <td>G</td>\n",
       "      <td>2</td>\n",
       "      <td>WT</td>\n",
       "      <td>Nec1s</td>\n",
       "    </tr>\n",
       "    <tr>\n",
       "      <td>2_2G3</td>\n",
       "      <td>3</td>\n",
       "      <td>G</td>\n",
       "      <td>2</td>\n",
       "      <td>WT</td>\n",
       "      <td>Nec1s</td>\n",
       "    </tr>\n",
       "    <tr>\n",
       "      <td>3_2G3</td>\n",
       "      <td>3</td>\n",
       "      <td>G</td>\n",
       "      <td>2</td>\n",
       "      <td>WT</td>\n",
       "      <td>Nec1s</td>\n",
       "    </tr>\n",
       "    <tr>\n",
       "      <td>4_2G3</td>\n",
       "      <td>3</td>\n",
       "      <td>G</td>\n",
       "      <td>2</td>\n",
       "      <td>WT</td>\n",
       "      <td>Nec1s</td>\n",
       "    </tr>\n",
       "    <tr>\n",
       "      <td>...</td>\n",
       "      <td>...</td>\n",
       "      <td>...</td>\n",
       "      <td>...</td>\n",
       "      <td>...</td>\n",
       "      <td>...</td>\n",
       "    </tr>\n",
       "    <tr>\n",
       "      <td>4592_4B46</td>\n",
       "      <td>46</td>\n",
       "      <td>B</td>\n",
       "      <td>4</td>\n",
       "      <td>WT</td>\n",
       "      <td>zVD</td>\n",
       "    </tr>\n",
       "    <tr>\n",
       "      <td>4593_4B46</td>\n",
       "      <td>46</td>\n",
       "      <td>B</td>\n",
       "      <td>4</td>\n",
       "      <td>WT</td>\n",
       "      <td>zVD</td>\n",
       "    </tr>\n",
       "    <tr>\n",
       "      <td>4594_4B46</td>\n",
       "      <td>46</td>\n",
       "      <td>B</td>\n",
       "      <td>4</td>\n",
       "      <td>WT</td>\n",
       "      <td>zVD</td>\n",
       "    </tr>\n",
       "    <tr>\n",
       "      <td>4595_4B46</td>\n",
       "      <td>46</td>\n",
       "      <td>B</td>\n",
       "      <td>4</td>\n",
       "      <td>WT</td>\n",
       "      <td>zVD</td>\n",
       "    </tr>\n",
       "    <tr>\n",
       "      <td>4596_4B46</td>\n",
       "      <td>46</td>\n",
       "      <td>B</td>\n",
       "      <td>4</td>\n",
       "      <td>WT</td>\n",
       "      <td>zVD</td>\n",
       "    </tr>\n",
       "  </tbody>\n",
       "</table>\n",
       "<p>25577941 rows × 5 columns</p>\n",
       "</div>"
      ],
      "text/plain": [
       "           Timepoint Stimuli  Sample Genotype Stimuli Names\n",
       "0_2G3              3       G       2       WT         Nec1s\n",
       "1_2G3              3       G       2       WT         Nec1s\n",
       "2_2G3              3       G       2       WT         Nec1s\n",
       "3_2G3              3       G       2       WT         Nec1s\n",
       "4_2G3              3       G       2       WT         Nec1s\n",
       "...              ...     ...     ...      ...           ...\n",
       "4592_4B46         46       B       4       WT           zVD\n",
       "4593_4B46         46       B       4       WT           zVD\n",
       "4594_4B46         46       B       4       WT           zVD\n",
       "4595_4B46         46       B       4       WT           zVD\n",
       "4596_4B46         46       B       4       WT           zVD\n",
       "\n",
       "[25577941 rows x 5 columns]"
      ]
     },
     "execution_count": 6,
     "metadata": {},
     "output_type": "execute_result"
    }
   ],
   "source": [
    "meta_df"
   ]
  },
  {
   "cell_type": "code",
   "execution_count": 7,
   "metadata": {
    "ExecuteTime": {
     "end_time": "2019-11-06T19:08:34.294643Z",
     "start_time": "2019-11-06T19:08:28.685253Z"
    }
   },
   "outputs": [
    {
     "data": {
      "text/html": [
       "<div>\n",
       "<style scoped>\n",
       "    .dataframe tbody tr th:only-of-type {\n",
       "        vertical-align: middle;\n",
       "    }\n",
       "\n",
       "    .dataframe tbody tr th {\n",
       "        vertical-align: top;\n",
       "    }\n",
       "\n",
       "    .dataframe thead th {\n",
       "        text-align: right;\n",
       "    }\n",
       "</style>\n",
       "<table border=\"1\" class=\"dataframe\">\n",
       "  <thead>\n",
       "    <tr style=\"text-align: right;\">\n",
       "      <th></th>\n",
       "      <th>Cell Size</th>\n",
       "      <th>Cell Circularity</th>\n",
       "      <th>Cell Aspect Ratio</th>\n",
       "      <th>Cell Tracker Intensity</th>\n",
       "      <th>PI Intensity</th>\n",
       "      <th>AnexinV Intensity</th>\n",
       "      <th>Timepoint</th>\n",
       "      <th>Stimuli</th>\n",
       "      <th>Sample</th>\n",
       "      <th>Genotype</th>\n",
       "      <th>Stimuli Names</th>\n",
       "    </tr>\n",
       "  </thead>\n",
       "  <tbody>\n",
       "    <tr>\n",
       "      <td>0_2G3</td>\n",
       "      <td>62.4662</td>\n",
       "      <td>-9.764209</td>\n",
       "      <td>2.257279</td>\n",
       "      <td>-0.613713</td>\n",
       "      <td>-0.912228</td>\n",
       "      <td>-1.053166</td>\n",
       "      <td>3</td>\n",
       "      <td>G</td>\n",
       "      <td>2</td>\n",
       "      <td>WT</td>\n",
       "      <td>Nec1s</td>\n",
       "    </tr>\n",
       "    <tr>\n",
       "      <td>1_2G3</td>\n",
       "      <td>-0.327282</td>\n",
       "      <td>-9.343066</td>\n",
       "      <td>84.071640</td>\n",
       "      <td>-0.941838</td>\n",
       "      <td>-0.915353</td>\n",
       "      <td>-1.213429</td>\n",
       "      <td>3</td>\n",
       "      <td>G</td>\n",
       "      <td>2</td>\n",
       "      <td>WT</td>\n",
       "      <td>Nec1s</td>\n",
       "    </tr>\n",
       "    <tr>\n",
       "      <td>2_2G3</td>\n",
       "      <td>-0.590511</td>\n",
       "      <td>-7.180160</td>\n",
       "      <td>15.145722</td>\n",
       "      <td>-0.891318</td>\n",
       "      <td>-0.914065</td>\n",
       "      <td>-1.198231</td>\n",
       "      <td>3</td>\n",
       "      <td>G</td>\n",
       "      <td>2</td>\n",
       "      <td>WT</td>\n",
       "      <td>Nec1s</td>\n",
       "    </tr>\n",
       "    <tr>\n",
       "      <td>3_2G3</td>\n",
       "      <td>-0.531419</td>\n",
       "      <td>-8.459477</td>\n",
       "      <td>30.618888</td>\n",
       "      <td>-0.818131</td>\n",
       "      <td>-0.911537</td>\n",
       "      <td>-1.199510</td>\n",
       "      <td>3</td>\n",
       "      <td>G</td>\n",
       "      <td>2</td>\n",
       "      <td>WT</td>\n",
       "      <td>Nec1s</td>\n",
       "    </tr>\n",
       "    <tr>\n",
       "      <td>4_2G3</td>\n",
       "      <td>-0.644231</td>\n",
       "      <td>0.652443</td>\n",
       "      <td>1.079209</td>\n",
       "      <td>-0.827969</td>\n",
       "      <td>-0.913367</td>\n",
       "      <td>-1.194802</td>\n",
       "      <td>3</td>\n",
       "      <td>G</td>\n",
       "      <td>2</td>\n",
       "      <td>WT</td>\n",
       "      <td>Nec1s</td>\n",
       "    </tr>\n",
       "  </tbody>\n",
       "</table>\n",
       "</div>"
      ],
      "text/plain": [
       "      Cell Size  Cell Circularity  Cell Aspect Ratio  Cell Tracker Intensity  \\\n",
       "0_2G3   62.4662         -9.764209           2.257279               -0.613713   \n",
       "1_2G3 -0.327282         -9.343066          84.071640               -0.941838   \n",
       "2_2G3 -0.590511         -7.180160          15.145722               -0.891318   \n",
       "3_2G3 -0.531419         -8.459477          30.618888               -0.818131   \n",
       "4_2G3 -0.644231          0.652443           1.079209               -0.827969   \n",
       "\n",
       "       PI Intensity  AnexinV Intensity  Timepoint Stimuli  Sample Genotype  \\\n",
       "0_2G3     -0.912228          -1.053166          3       G       2       WT   \n",
       "1_2G3     -0.915353          -1.213429          3       G       2       WT   \n",
       "2_2G3     -0.914065          -1.198231          3       G       2       WT   \n",
       "3_2G3     -0.911537          -1.199510          3       G       2       WT   \n",
       "4_2G3     -0.913367          -1.194802          3       G       2       WT   \n",
       "\n",
       "      Stimuli Names  \n",
       "0_2G3         Nec1s  \n",
       "1_2G3         Nec1s  \n",
       "2_2G3         Nec1s  \n",
       "3_2G3         Nec1s  \n",
       "4_2G3         Nec1s  "
      ]
     },
     "execution_count": 7,
     "metadata": {},
     "output_type": "execute_result"
    }
   ],
   "source": [
    "df = pd.concat((df,meta_df),axis=1)\n",
    "df.head()"
   ]
  },
  {
   "cell_type": "markdown",
   "metadata": {},
   "source": [
    "## Run umap"
   ]
  },
  {
   "cell_type": "markdown",
   "metadata": {},
   "source": [
    "## Loop through and run umap\n",
    "### Use 2 cpus?"
   ]
  },
  {
   "cell_type": "code",
   "execution_count": 8,
   "metadata": {
    "ExecuteTime": {
     "end_time": "2019-11-06T19:08:34.301359Z",
     "start_time": "2019-11-06T19:08:34.296938Z"
    }
   },
   "outputs": [],
   "source": [
    "attrs = [\"Cell Tracker Intensity\", \"PI Intensity\", \"AnexinV Intensity\"]"
   ]
  },
  {
   "cell_type": "code",
   "execution_count": 9,
   "metadata": {
    "ExecuteTime": {
     "end_time": "2019-11-06T19:08:34.312355Z",
     "start_time": "2019-11-06T19:08:34.303231Z"
    }
   },
   "outputs": [],
   "source": [
    "def run_umap(df, f_save, n_neighbors, min_distance, subsample, attrs):\n",
    "    t1 = time.time()\n",
    "    reducer = umap.UMAP(n_neighbors=n_neighbors, min_dist=min_distance)\n",
    "    embedding = reducer.fit_transform(df[attrs])\n",
    "    embedding.shape\n",
    "    t2 = time.time()\n",
    "    print(f\"Time in minutes:{(t2-t1)/60}\")\n",
    "\n",
    "    pickle.dump([embedding,df.index],open(f_save.replace(\".p\",\"\") + \".p\",'wb'))\n",
    "    with open(f_save.replace(\".p\",\"\") + \"_time_minutes.txt\",\"w\") as f:\n",
    "        f.write(str((t2-t1)/60))\n",
    "    return"
   ]
  },
  {
   "cell_type": "code",
   "execution_count": 15,
   "metadata": {
    "ExecuteTime": {
     "end_time": "2019-11-06T19:09:56.840495Z",
     "start_time": "2019-11-06T19:09:56.816732Z"
    },
    "scrolled": true
   },
   "outputs": [
    {
     "name": "stdout",
     "output_type": "stream",
     "text": [
      "i 0\n",
      "number of neighbors 3\n",
      "minimum distance 0.1\n",
      "Already ran ../results/umap_out/2/embedding_0_3_0.1.p\n",
      "minimum distance 0\n",
      "Already ran ../results/umap_out/2/embedding_0_3_0.p\n",
      "number of neighbors 5\n",
      "minimum distance 0.1\n",
      "Already ran ../results/umap_out/2/embedding_0_5_0.1.p\n",
      "minimum distance 0\n",
      "Already ran ../results/umap_out/2/embedding_0_5_0.p\n",
      "number of neighbors 10\n",
      "minimum distance 0.1\n",
      "Already ran ../results/umap_out/2/embedding_0_10_0.1.p\n",
      "minimum distance 0\n",
      "Already ran ../results/umap_out/2/embedding_0_10_0.p\n",
      "number of neighbors 15\n",
      "minimum distance 0.1\n",
      "Already ran ../results/umap_out/2/embedding_0_15_0.1.p\n",
      "minimum distance 0\n",
      "Already ran ../results/umap_out/2/embedding_0_15_0.p\n",
      "number of neighbors 100\n",
      "minimum distance 0.1\n",
      "Already ran ../results/umap_out/2/embedding_0_100_0.1.p\n",
      "minimum distance 0\n",
      "Already ran ../results/umap_out/2/embedding_0_100_0.p\n",
      "i 1\n",
      "number of neighbors 3\n",
      "minimum distance 0.1\n",
      "Already ran ../results/umap_out/2/embedding_1_3_0.1.p\n",
      "minimum distance 0\n",
      "Already ran ../results/umap_out/2/embedding_1_3_0.p\n",
      "number of neighbors 5\n",
      "minimum distance 0.1\n",
      "Already ran ../results/umap_out/2/embedding_1_5_0.1.p\n",
      "minimum distance 0\n",
      "Already ran ../results/umap_out/2/embedding_1_5_0.p\n",
      "number of neighbors 10\n",
      "minimum distance 0.1\n",
      "Already ran ../results/umap_out/2/embedding_1_10_0.1.p\n",
      "minimum distance 0\n",
      "Already ran ../results/umap_out/2/embedding_1_10_0.p\n",
      "number of neighbors 15\n",
      "minimum distance 0.1\n",
      "Already ran ../results/umap_out/2/embedding_1_15_0.1.p\n",
      "minimum distance 0\n",
      "Already ran ../results/umap_out/2/embedding_1_15_0.p\n",
      "number of neighbors 100\n",
      "minimum distance 0.1\n",
      "Already ran ../results/umap_out/2/embedding_1_100_0.1.p\n",
      "minimum distance 0\n",
      "Already ran ../results/umap_out/2/embedding_1_100_0.p\n",
      "i 2\n",
      "number of neighbors 3\n",
      "minimum distance 0.1\n",
      "Already ran ../results/umap_out/2/embedding_2_3_0.1.p\n",
      "minimum distance 0\n",
      "Already ran ../results/umap_out/2/embedding_2_3_0.p\n",
      "number of neighbors 5\n",
      "minimum distance 0.1\n",
      "Already ran ../results/umap_out/2/embedding_2_5_0.1.p\n",
      "minimum distance 0\n",
      "Already ran ../results/umap_out/2/embedding_2_5_0.p\n",
      "number of neighbors 10\n",
      "minimum distance 0.1\n",
      "Already ran ../results/umap_out/2/embedding_2_10_0.1.p\n",
      "minimum distance 0\n",
      "Already ran ../results/umap_out/2/embedding_2_10_0.p\n",
      "number of neighbors 15\n",
      "minimum distance 0.1\n",
      "Already ran ../results/umap_out/2/embedding_2_15_0.1.p\n",
      "minimum distance 0\n",
      "Already ran ../results/umap_out/2/embedding_2_15_0.p\n",
      "number of neighbors 100\n",
      "minimum distance 0.1\n",
      "Already ran ../results/umap_out/2/embedding_2_100_0.1.p\n",
      "minimum distance 0\n",
      "Already ran ../results/umap_out/2/embedding_2_100_0.p\n"
     ]
    }
   ],
   "source": [
    "for i in range(n_iter):\n",
    "    print('i',i)\n",
    "    for neigh in n_neighbors_l:\n",
    "        print('number of neighbors', neigh)\n",
    "        for dist in min_distance_l:\n",
    "            print('minimum distance', dist)\n",
    "            # File name\n",
    "            curr_f_save = f\"{savedir}/embedding_{i}_{neigh}_{dist}.p\" #umap_results\n",
    "            if not os.path.exists(curr_f_save):\n",
    "                print(\"Running\")\n",
    "                # Collect samples\n",
    "                samples = df.groupby([\"Stimuli\",\"Genotype\",\"Timepoint\"]).apply(lambda x: x.sample(n=n_subsample).reset_index())\n",
    "                samples = samples.set_index(\"index\")\n",
    "\n",
    "                run_umap(samples, curr_f_save, neigh, dist, n_subsample, attrs)\n",
    "            else:\n",
    "                print(f\"Already ran {curr_f_save}\")"
   ]
  },
  {
   "cell_type": "markdown",
   "metadata": {},
   "source": [
    "## Add more neighbors"
   ]
  },
  {
   "cell_type": "code",
   "execution_count": 16,
   "metadata": {
    "ExecuteTime": {
     "end_time": "2019-11-06T19:10:00.863182Z",
     "start_time": "2019-11-06T19:10:00.859987Z"
    }
   },
   "outputs": [],
   "source": [
    "n_neighbors_l = [500,1000]"
   ]
  },
  {
   "cell_type": "code",
   "execution_count": 17,
   "metadata": {
    "ExecuteTime": {
     "end_time": "2019-11-06T22:39:25.565442Z",
     "start_time": "2019-11-06T19:10:11.205516Z"
    },
    "scrolled": true
   },
   "outputs": [
    {
     "name": "stdout",
     "output_type": "stream",
     "text": [
      "i 0\n",
      "number of neighbors 500\n",
      "minimum distance 0.1\n",
      "Running\n"
     ]
    },
    {
     "name": "stderr",
     "output_type": "stream",
     "text": [
      "/home/isshamie/software/anaconda2/envs/umap/lib/python3.7/site-packages/numba/compiler.py:602: NumbaPerformanceWarning: \n",
      "The keyword argument 'parallel=True' was specified but no transformation for parallel execution was possible.\n",
      "\n",
      "To find out why, try turning on parallel diagnostics, see http://numba.pydata.org/numba-doc/latest/user/parallel.html#diagnostics for help.\n",
      "\n",
      "File \"../../../../home/isshamie/software/anaconda2/envs/umap/lib/python3.7/site-packages/umap/rp_tree.py\", line 135:\n",
      "@numba.njit(fastmath=True, nogil=True, parallel=True)\n",
      "def euclidean_random_projection_split(data, indices, rng_state):\n",
      "^\n",
      "\n",
      "  self.func_ir.loc))\n",
      "/home/isshamie/software/anaconda2/envs/umap/lib/python3.7/site-packages/umap/nndescent.py:92: NumbaPerformanceWarning: \n",
      "The keyword argument 'parallel=True' was specified but no transformation for parallel execution was possible.\n",
      "\n",
      "To find out why, try turning on parallel diagnostics, see http://numba.pydata.org/numba-doc/latest/user/parallel.html#diagnostics for help.\n",
      "\n",
      "File \"../../../../home/isshamie/software/anaconda2/envs/umap/lib/python3.7/site-packages/umap/utils.py\", line 409:\n",
      "@numba.njit(parallel=True)\n",
      "def build_candidates(current_graph, n_vertices, n_neighbors, max_candidates, rng_state):\n",
      "^\n",
      "\n",
      "  current_graph, n_vertices, n_neighbors, max_candidates, rng_state\n",
      "/home/isshamie/software/anaconda2/envs/umap/lib/python3.7/site-packages/numba/compiler.py:602: NumbaPerformanceWarning: \n",
      "The keyword argument 'parallel=True' was specified but no transformation for parallel execution was possible.\n",
      "\n",
      "To find out why, try turning on parallel diagnostics, see http://numba.pydata.org/numba-doc/latest/user/parallel.html#diagnostics for help.\n",
      "\n",
      "File \"../../../../home/isshamie/software/anaconda2/envs/umap/lib/python3.7/site-packages/umap/nndescent.py\", line 47:\n",
      "    @numba.njit(parallel=True)\n",
      "    def nn_descent(\n",
      "    ^\n",
      "\n",
      "  self.func_ir.loc))\n"
     ]
    },
    {
     "name": "stdout",
     "output_type": "stream",
     "text": [
      "Time in minutes:9.910081140200298\n",
      "minimum distance 0\n",
      "Running\n"
     ]
    },
    {
     "name": "stderr",
     "output_type": "stream",
     "text": [
      "/home/isshamie/software/anaconda2/envs/umap/lib/python3.7/site-packages/numba/compiler.py:602: NumbaPerformanceWarning: \n",
      "The keyword argument 'parallel=True' was specified but no transformation for parallel execution was possible.\n",
      "\n",
      "To find out why, try turning on parallel diagnostics, see http://numba.pydata.org/numba-doc/latest/user/parallel.html#diagnostics for help.\n",
      "\n",
      "File \"../../../../home/isshamie/software/anaconda2/envs/umap/lib/python3.7/site-packages/umap/nndescent.py\", line 47:\n",
      "    @numba.njit(parallel=True)\n",
      "    def nn_descent(\n",
      "    ^\n",
      "\n",
      "  self.func_ir.loc))\n"
     ]
    },
    {
     "name": "stdout",
     "output_type": "stream",
     "text": [
      "Time in minutes:13.141490697860718\n",
      "number of neighbors 1000\n",
      "minimum distance 0.1\n",
      "Running\n"
     ]
    },
    {
     "name": "stderr",
     "output_type": "stream",
     "text": [
      "/home/isshamie/software/anaconda2/envs/umap/lib/python3.7/site-packages/numba/compiler.py:602: NumbaPerformanceWarning: \n",
      "The keyword argument 'parallel=True' was specified but no transformation for parallel execution was possible.\n",
      "\n",
      "To find out why, try turning on parallel diagnostics, see http://numba.pydata.org/numba-doc/latest/user/parallel.html#diagnostics for help.\n",
      "\n",
      "File \"../../../../home/isshamie/software/anaconda2/envs/umap/lib/python3.7/site-packages/umap/nndescent.py\", line 47:\n",
      "    @numba.njit(parallel=True)\n",
      "    def nn_descent(\n",
      "    ^\n",
      "\n",
      "  self.func_ir.loc))\n"
     ]
    },
    {
     "name": "stdout",
     "output_type": "stream",
     "text": [
      "Time in minutes:23.025675376256306\n",
      "minimum distance 0\n",
      "Running\n"
     ]
    },
    {
     "name": "stderr",
     "output_type": "stream",
     "text": [
      "/home/isshamie/software/anaconda2/envs/umap/lib/python3.7/site-packages/numba/compiler.py:602: NumbaPerformanceWarning: \n",
      "The keyword argument 'parallel=True' was specified but no transformation for parallel execution was possible.\n",
      "\n",
      "To find out why, try turning on parallel diagnostics, see http://numba.pydata.org/numba-doc/latest/user/parallel.html#diagnostics for help.\n",
      "\n",
      "File \"../../../../home/isshamie/software/anaconda2/envs/umap/lib/python3.7/site-packages/umap/nndescent.py\", line 47:\n",
      "    @numba.njit(parallel=True)\n",
      "    def nn_descent(\n",
      "    ^\n",
      "\n",
      "  self.func_ir.loc))\n"
     ]
    },
    {
     "name": "stdout",
     "output_type": "stream",
     "text": [
      "Time in minutes:23.507224849859874\n",
      "i 1\n",
      "number of neighbors 500\n",
      "minimum distance 0.1\n",
      "Running\n"
     ]
    },
    {
     "name": "stderr",
     "output_type": "stream",
     "text": [
      "/home/isshamie/software/anaconda2/envs/umap/lib/python3.7/site-packages/numba/compiler.py:602: NumbaPerformanceWarning: \n",
      "The keyword argument 'parallel=True' was specified but no transformation for parallel execution was possible.\n",
      "\n",
      "To find out why, try turning on parallel diagnostics, see http://numba.pydata.org/numba-doc/latest/user/parallel.html#diagnostics for help.\n",
      "\n",
      "File \"../../../../home/isshamie/software/anaconda2/envs/umap/lib/python3.7/site-packages/umap/nndescent.py\", line 47:\n",
      "    @numba.njit(parallel=True)\n",
      "    def nn_descent(\n",
      "    ^\n",
      "\n",
      "  self.func_ir.loc))\n"
     ]
    },
    {
     "name": "stdout",
     "output_type": "stream",
     "text": [
      "Time in minutes:11.91708132425944\n",
      "minimum distance 0\n",
      "Running\n"
     ]
    },
    {
     "name": "stderr",
     "output_type": "stream",
     "text": [
      "/home/isshamie/software/anaconda2/envs/umap/lib/python3.7/site-packages/numba/compiler.py:602: NumbaPerformanceWarning: \n",
      "The keyword argument 'parallel=True' was specified but no transformation for parallel execution was possible.\n",
      "\n",
      "To find out why, try turning on parallel diagnostics, see http://numba.pydata.org/numba-doc/latest/user/parallel.html#diagnostics for help.\n",
      "\n",
      "File \"../../../../home/isshamie/software/anaconda2/envs/umap/lib/python3.7/site-packages/umap/nndescent.py\", line 47:\n",
      "    @numba.njit(parallel=True)\n",
      "    def nn_descent(\n",
      "    ^\n",
      "\n",
      "  self.func_ir.loc))\n"
     ]
    },
    {
     "name": "stdout",
     "output_type": "stream",
     "text": [
      "Time in minutes:12.141723696390788\n",
      "number of neighbors 1000\n",
      "minimum distance 0.1\n",
      "Running\n"
     ]
    },
    {
     "name": "stderr",
     "output_type": "stream",
     "text": [
      "/home/isshamie/software/anaconda2/envs/umap/lib/python3.7/site-packages/numba/compiler.py:602: NumbaPerformanceWarning: \n",
      "The keyword argument 'parallel=True' was specified but no transformation for parallel execution was possible.\n",
      "\n",
      "To find out why, try turning on parallel diagnostics, see http://numba.pydata.org/numba-doc/latest/user/parallel.html#diagnostics for help.\n",
      "\n",
      "File \"../../../../home/isshamie/software/anaconda2/envs/umap/lib/python3.7/site-packages/umap/nndescent.py\", line 47:\n",
      "    @numba.njit(parallel=True)\n",
      "    def nn_descent(\n",
      "    ^\n",
      "\n",
      "  self.func_ir.loc))\n"
     ]
    },
    {
     "name": "stdout",
     "output_type": "stream",
     "text": [
      "Time in minutes:25.504487788677217\n",
      "minimum distance 0\n",
      "Running\n"
     ]
    },
    {
     "name": "stderr",
     "output_type": "stream",
     "text": [
      "/home/isshamie/software/anaconda2/envs/umap/lib/python3.7/site-packages/numba/compiler.py:602: NumbaPerformanceWarning: \n",
      "The keyword argument 'parallel=True' was specified but no transformation for parallel execution was possible.\n",
      "\n",
      "To find out why, try turning on parallel diagnostics, see http://numba.pydata.org/numba-doc/latest/user/parallel.html#diagnostics for help.\n",
      "\n",
      "File \"../../../../home/isshamie/software/anaconda2/envs/umap/lib/python3.7/site-packages/umap/nndescent.py\", line 47:\n",
      "    @numba.njit(parallel=True)\n",
      "    def nn_descent(\n",
      "    ^\n",
      "\n",
      "  self.func_ir.loc))\n"
     ]
    },
    {
     "name": "stdout",
     "output_type": "stream",
     "text": [
      "Time in minutes:21.92332330942154\n",
      "i 2\n",
      "number of neighbors 500\n",
      "minimum distance 0.1\n",
      "Running\n"
     ]
    },
    {
     "name": "stderr",
     "output_type": "stream",
     "text": [
      "/home/isshamie/software/anaconda2/envs/umap/lib/python3.7/site-packages/numba/compiler.py:602: NumbaPerformanceWarning: \n",
      "The keyword argument 'parallel=True' was specified but no transformation for parallel execution was possible.\n",
      "\n",
      "To find out why, try turning on parallel diagnostics, see http://numba.pydata.org/numba-doc/latest/user/parallel.html#diagnostics for help.\n",
      "\n",
      "File \"../../../../home/isshamie/software/anaconda2/envs/umap/lib/python3.7/site-packages/umap/nndescent.py\", line 47:\n",
      "    @numba.njit(parallel=True)\n",
      "    def nn_descent(\n",
      "    ^\n",
      "\n",
      "  self.func_ir.loc))\n"
     ]
    },
    {
     "name": "stdout",
     "output_type": "stream",
     "text": [
      "Time in minutes:12.545184576511383\n",
      "minimum distance 0\n",
      "Running\n"
     ]
    },
    {
     "name": "stderr",
     "output_type": "stream",
     "text": [
      "/home/isshamie/software/anaconda2/envs/umap/lib/python3.7/site-packages/numba/compiler.py:602: NumbaPerformanceWarning: \n",
      "The keyword argument 'parallel=True' was specified but no transformation for parallel execution was possible.\n",
      "\n",
      "To find out why, try turning on parallel diagnostics, see http://numba.pydata.org/numba-doc/latest/user/parallel.html#diagnostics for help.\n",
      "\n",
      "File \"../../../../home/isshamie/software/anaconda2/envs/umap/lib/python3.7/site-packages/umap/nndescent.py\", line 47:\n",
      "    @numba.njit(parallel=True)\n",
      "    def nn_descent(\n",
      "    ^\n",
      "\n",
      "  self.func_ir.loc))\n"
     ]
    },
    {
     "name": "stdout",
     "output_type": "stream",
     "text": [
      "Time in minutes:10.950611464182536\n",
      "number of neighbors 1000\n",
      "minimum distance 0.1\n",
      "Running\n"
     ]
    },
    {
     "name": "stderr",
     "output_type": "stream",
     "text": [
      "/home/isshamie/software/anaconda2/envs/umap/lib/python3.7/site-packages/numba/compiler.py:602: NumbaPerformanceWarning: \n",
      "The keyword argument 'parallel=True' was specified but no transformation for parallel execution was possible.\n",
      "\n",
      "To find out why, try turning on parallel diagnostics, see http://numba.pydata.org/numba-doc/latest/user/parallel.html#diagnostics for help.\n",
      "\n",
      "File \"../../../../home/isshamie/software/anaconda2/envs/umap/lib/python3.7/site-packages/umap/nndescent.py\", line 47:\n",
      "    @numba.njit(parallel=True)\n",
      "    def nn_descent(\n",
      "    ^\n",
      "\n",
      "  self.func_ir.loc))\n"
     ]
    },
    {
     "name": "stdout",
     "output_type": "stream",
     "text": [
      "Time in minutes:22.942644886175792\n",
      "minimum distance 0\n",
      "Running\n"
     ]
    },
    {
     "name": "stderr",
     "output_type": "stream",
     "text": [
      "/home/isshamie/software/anaconda2/envs/umap/lib/python3.7/site-packages/numba/compiler.py:602: NumbaPerformanceWarning: \n",
      "The keyword argument 'parallel=True' was specified but no transformation for parallel execution was possible.\n",
      "\n",
      "To find out why, try turning on parallel diagnostics, see http://numba.pydata.org/numba-doc/latest/user/parallel.html#diagnostics for help.\n",
      "\n",
      "File \"../../../../home/isshamie/software/anaconda2/envs/umap/lib/python3.7/site-packages/umap/nndescent.py\", line 47:\n",
      "    @numba.njit(parallel=True)\n",
      "    def nn_descent(\n",
      "    ^\n",
      "\n",
      "  self.func_ir.loc))\n"
     ]
    },
    {
     "name": "stdout",
     "output_type": "stream",
     "text": [
      "Time in minutes:19.000822758674623\n"
     ]
    }
   ],
   "source": [
    "for i in range(n_iter):\n",
    "    print('i',i)\n",
    "    for neigh in n_neighbors_l:\n",
    "        print('number of neighbors', neigh)\n",
    "        for dist in min_distance_l:\n",
    "            print('minimum distance', dist)\n",
    "            # File name\n",
    "            curr_f_save = f\"{savedir}/embedding_{i}_{neigh}_{dist}.p\" #umap_results\n",
    "            if not os.path.exists(curr_f_save):\n",
    "                print(\"Running\")\n",
    "                # Collect samples\n",
    "                samples = df.groupby([\"Stimuli\",\"Genotype\",\"Timepoint\"]).apply(lambda x: x.sample(n=n_subsample).reset_index())\n",
    "                samples = samples.set_index(\"index\")\n",
    "\n",
    "                run_umap(samples, curr_f_save, neigh, dist, n_subsample, attrs)\n",
    "            else:\n",
    "                print(f\"Already ran {curr_f_save}\")"
   ]
  }
 ],
 "metadata": {
  "kernelspec": {
   "display_name": "Python 3",
   "language": "python",
   "name": "python3"
  },
  "language_info": {
   "codemirror_mode": {
    "name": "ipython",
    "version": 3
   },
   "file_extension": ".py",
   "mimetype": "text/x-python",
   "name": "python",
   "nbconvert_exporter": "python",
   "pygments_lexer": "ipython3",
   "version": "3.7.3"
  }
 },
 "nbformat": 4,
 "nbformat_minor": 2
}
