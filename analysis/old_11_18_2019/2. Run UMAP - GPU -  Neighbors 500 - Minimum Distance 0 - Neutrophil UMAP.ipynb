{
 "cells": [
  {
   "cell_type": "code",
   "execution_count": 1,
   "metadata": {
    "ExecuteTime": {
     "end_time": "2019-11-19T00:26:50.097903Z",
     "start_time": "2019-11-19T00:26:47.472124Z"
    }
   },
   "outputs": [
    {
     "name": "stdout",
     "output_type": "stream",
     "text": [
      "Project Directory: /data2/isshamie/time_neutrophils\n",
      "\n",
      "Config paths:\n",
      "__name__ src.params\n",
      "__package__ src\n",
      "__file__ /data2/isshamie/time_neutrophils/src/params.py\n",
      "__cached__ /data2/isshamie/time_neutrophils/src/__pycache__/params.cpython-37.pyc\n",
      "path /data2/isshamie/time_neutrophils/src/params.py\n",
      "DATA_DIR /data2/isshamie/time_neutrophils/data\n",
      "PROCESSED /data2/isshamie/time_neutrophils/data/processed\n",
      "PARAM_DIR /data2/isshamie/time_neutrophils/parameters\n",
      "RESULTS /data2/isshamie/time_neutrophils/results\n",
      "FIGURES_DIR /data2/isshamie/time_neutrophils/figures\n"
     ]
    }
   ],
   "source": [
    "from src.run_umap import run_umap\n",
    "from src.params import PROCESSED, DATA_DIR, RESULTS"
   ]
  },
  {
   "cell_type": "code",
   "execution_count": 2,
   "metadata": {
    "ExecuteTime": {
     "end_time": "2019-11-19T00:26:50.829936Z",
     "start_time": "2019-11-19T00:26:50.100183Z"
    },
    "scrolled": true
   },
   "outputs": [],
   "source": [
    "import pymc3\n",
    "import umap\n",
    "import numpy as np\n",
    "import pandas as pd\n",
    "import matplotlib.pyplot as plt\n",
    "import seaborn as sns\n",
    "import glob\n",
    "import time\n",
    "import os\n",
    "from scipy.stats import zscore\n",
    "import threading\n",
    "import pickle\n",
    "%matplotlib inline"
   ]
  },
  {
   "cell_type": "code",
   "execution_count": 3,
   "metadata": {
    "ExecuteTime": {
     "end_time": "2019-11-19T00:26:50.837959Z",
     "start_time": "2019-11-19T00:26:50.832095Z"
    }
   },
   "outputs": [],
   "source": [
    "dir_save = os.path.join(RESULTS,\"umap_out\", \"0\")\n",
    "if not os.path.exists(dir_save):\n",
    "    os.mkdir(dir_save)\n",
    "f_save = os.path.join(dir_save, \"embedding.p\")"
   ]
  },
  {
   "cell_type": "markdown",
   "metadata": {},
   "source": [
    "## Load in z-scored data"
   ]
  },
  {
   "cell_type": "code",
   "execution_count": 4,
   "metadata": {
    "ExecuteTime": {
     "end_time": "2019-11-19T00:26:57.063789Z",
     "start_time": "2019-11-19T00:26:50.839540Z"
    },
    "scrolled": true
   },
   "outputs": [
    {
     "name": "stdout",
     "output_type": "stream",
     "text": [
      "(25577941, 6)\n"
     ]
    },
    {
     "data": {
      "text/html": [
       "<div>\n",
       "<style scoped>\n",
       "    .dataframe tbody tr th:only-of-type {\n",
       "        vertical-align: middle;\n",
       "    }\n",
       "\n",
       "    .dataframe tbody tr th {\n",
       "        vertical-align: top;\n",
       "    }\n",
       "\n",
       "    .dataframe thead th {\n",
       "        text-align: right;\n",
       "    }\n",
       "</style>\n",
       "<table border=\"1\" class=\"dataframe\">\n",
       "  <thead>\n",
       "    <tr style=\"text-align: right;\">\n",
       "      <th></th>\n",
       "      <th>Cell Size</th>\n",
       "      <th>Cell Circularity</th>\n",
       "      <th>Cell Aspect Ratio</th>\n",
       "      <th>Cell Tracker Intensity</th>\n",
       "      <th>PI Intensity</th>\n",
       "      <th>AnexinV Intensity</th>\n",
       "    </tr>\n",
       "  </thead>\n",
       "  <tbody>\n",
       "    <tr>\n",
       "      <td>0_2G3</td>\n",
       "      <td>4.070038</td>\n",
       "      <td>2.054053</td>\n",
       "      <td>0.452936</td>\n",
       "      <td>4.326174</td>\n",
       "      <td>3.470068</td>\n",
       "      <td>4.024921</td>\n",
       "    </tr>\n",
       "    <tr>\n",
       "      <td>1_2G3</td>\n",
       "      <td>1.785330</td>\n",
       "      <td>2.710094</td>\n",
       "      <td>1.785330</td>\n",
       "      <td>4.251310</td>\n",
       "      <td>3.463489</td>\n",
       "      <td>3.928986</td>\n",
       "    </tr>\n",
       "    <tr>\n",
       "      <td>2_2G3</td>\n",
       "      <td>1.079181</td>\n",
       "      <td>3.409231</td>\n",
       "      <td>1.079181</td>\n",
       "      <td>4.263711</td>\n",
       "      <td>3.466212</td>\n",
       "      <td>3.939049</td>\n",
       "    </tr>\n",
       "    <tr>\n",
       "      <td>3_2G3</td>\n",
       "      <td>1.361728</td>\n",
       "      <td>3.130852</td>\n",
       "      <td>1.361728</td>\n",
       "      <td>4.281070</td>\n",
       "      <td>3.471509</td>\n",
       "      <td>3.938211</td>\n",
       "    </tr>\n",
       "    <tr>\n",
       "      <td>4_2G3</td>\n",
       "      <td>0.301030</td>\n",
       "      <td>4.000000</td>\n",
       "      <td>0.301030</td>\n",
       "      <td>4.278776</td>\n",
       "      <td>3.467682</td>\n",
       "      <td>3.941288</td>\n",
       "    </tr>\n",
       "  </tbody>\n",
       "</table>\n",
       "</div>"
      ],
      "text/plain": [
       "       Cell Size  Cell Circularity  Cell Aspect Ratio  Cell Tracker Intensity  \\\n",
       "0_2G3   4.070038          2.054053           0.452936                4.326174   \n",
       "1_2G3   1.785330          2.710094           1.785330                4.251310   \n",
       "2_2G3   1.079181          3.409231           1.079181                4.263711   \n",
       "3_2G3   1.361728          3.130852           1.361728                4.281070   \n",
       "4_2G3   0.301030          4.000000           0.301030                4.278776   \n",
       "\n",
       "       PI Intensity  AnexinV Intensity  \n",
       "0_2G3      3.470068           4.024921  \n",
       "1_2G3      3.463489           3.928986  \n",
       "2_2G3      3.466212           3.939049  \n",
       "3_2G3      3.471509           3.938211  \n",
       "4_2G3      3.467682           3.941288  "
      ]
     },
     "execution_count": 4,
     "metadata": {},
     "output_type": "execute_result"
    }
   ],
   "source": [
    "df = pickle.load(open(os.path.join(PROCESSED,\"data_df_log10.p\"),\"rb\"))\n",
    "print(df.shape)\n",
    "df.head()"
   ]
  },
  {
   "cell_type": "markdown",
   "metadata": {},
   "source": [
    "## Run umap"
   ]
  },
  {
   "cell_type": "code",
   "execution_count": null,
   "metadata": {
    "ExecuteTime": {
     "start_time": "2019-11-19T00:26:47.479Z"
    }
   },
   "outputs": [
    {
     "name": "stderr",
     "output_type": "stream",
     "text": [
      "/home/isshamie/software/anaconda2/envs/umap/lib/python3.7/site-packages/numba/compiler.py:602: NumbaPerformanceWarning: \n",
      "The keyword argument 'parallel=True' was specified but no transformation for parallel execution was possible.\n",
      "\n",
      "To find out why, try turning on parallel diagnostics, see http://numba.pydata.org/numba-doc/latest/user/parallel.html#diagnostics for help.\n",
      "\n",
      "File \"../../../../home/isshamie/software/anaconda2/envs/umap/lib/python3.7/site-packages/umap/rp_tree.py\", line 135:\n",
      "@numba.njit(fastmath=True, nogil=True, parallel=True)\n",
      "def euclidean_random_projection_split(data, indices, rng_state):\n",
      "^\n",
      "\n",
      "  self.func_ir.loc))\n"
     ]
    }
   ],
   "source": [
    "run_umap(df, f_save=f_save, n_neighbors=500, min_distance=0, attrs=None)"
   ]
  },
  {
   "cell_type": "code",
   "execution_count": null,
   "metadata": {},
   "outputs": [],
   "source": []
  }
 ],
 "metadata": {
  "kernelspec": {
   "display_name": "Python 3",
   "language": "python",
   "name": "python3"
  },
  "language_info": {
   "codemirror_mode": {
    "name": "ipython",
    "version": 3
   },
   "file_extension": ".py",
   "mimetype": "text/x-python",
   "name": "python",
   "nbconvert_exporter": "python",
   "pygments_lexer": "ipython3",
   "version": "3.7.3"
  }
 },
 "nbformat": 4,
 "nbformat_minor": 2
}
